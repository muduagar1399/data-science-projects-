{
  "nbformat": 4,
  "nbformat_minor": 0,
  "metadata": {
    "kernelspec": {
      "display_name": "Python 3",
      "language": "python",
      "name": "python3"
    },
    "language_info": {
      "codemirror_mode": {
        "name": "ipython",
        "version": 3
      },
      "file_extension": ".py",
      "mimetype": "text/x-python",
      "name": "python",
      "nbconvert_exporter": "python",
      "pygments_lexer": "ipython3",
      "version": "3.7.4"
    },
    "colab": {
      "name": "titanic-neural-network.ipynb",
      "provenance": [],
      "collapsed_sections": [
        "YVKarc0zSbX4",
        "qZ3ufRFASbX4",
        "1JApwyVSSbYB",
        "Oc5U0ojeSbYF",
        "fe4CMWiKSbYH",
        "mHHEqqWuSbYL",
        "CmbPQj0JSbYP",
        "8qBGfb_kSbYT",
        "q_sAHa_7SbYc",
        "-GKZu4OQSbYf"
      ]
    }
  },
  "cells": [
    {
      "cell_type": "markdown",
      "metadata": {
        "_cell_guid": "ec3a4ceb-2397-45b3-aafe-a8ffde879888",
        "_uuid": "de8369a5716eb80519979ef773ecbb135f66e4b9",
        "id": "oe21lsxMSbWz"
      },
      "source": [
        "<a id=\"loading\"></a>\n",
        "#     NEURAL NETWORKS AND DEEP LEARNING FOR FINANCE                         #\n",
        "###                  Autumn 2020                               #\n",
        "\n",
        "##                          Lab Exercise  2:                                               #\n",
        "##                         Titanic challenge part with Deep Learning                                               #\n",
        "\n",
        " ###    This lab exercise is the solution of  Titanic challenge with apply Deep Learning model\n",
        " ##           The code based on  notebook from \n",
        "###           You don't need submit your solution to this lab excercise."
      ]
    },
    {
      "cell_type": "markdown",
      "metadata": {
        "_cell_guid": "ec3a4ceb-2397-45b3-aafe-a8ffde879888",
        "_uuid": "de8369a5716eb80519979ef773ecbb135f66e4b9",
        "id": "8EgbPzETUm8M"
      },
      "source": [
        "<a id=\"loading\"></a>\n",
        "# 1. Load packages and data"
      ]
    },
    {
      "cell_type": "code",
      "metadata": {
        "id": "J-3dgd1eSbWz"
      },
      "source": [
        "# import some packages, later, you will need to import more packages\n",
        "import numpy as np\n",
        "import pandas as pd\n",
        "import seaborn as sns\n",
        "import matplotlib.pyplot as plt\n",
        "from matplotlib.pyplot import rcParams\n",
        "\n"
      ],
      "execution_count": 4,
      "outputs": []
    },
    {
      "cell_type": "code",
      "metadata": {
        "id": "wLeeJ114SbW1"
      },
      "source": [
        "#Install Keras, you need to install keras pacakge"
      ],
      "execution_count": null,
      "outputs": []
    },
    {
      "cell_type": "code",
      "metadata": {
        "id": "xsGEy4xKSbW3",
        "outputId": "b19bbbdf-0ab0-4395-a922-114332c669bb",
        "colab": {
          "base_uri": "https://localhost:8080/",
          "height": 126
        }
      },
      "source": [
        "pip install keras"
      ],
      "execution_count": 5,
      "outputs": [
        {
          "output_type": "stream",
          "text": [
            "Requirement already satisfied: keras in /usr/local/lib/python3.6/dist-packages (2.4.3)\n",
            "Requirement already satisfied: numpy>=1.9.1 in /usr/local/lib/python3.6/dist-packages (from keras) (1.18.5)\n",
            "Requirement already satisfied: scipy>=0.14 in /usr/local/lib/python3.6/dist-packages (from keras) (1.4.1)\n",
            "Requirement already satisfied: pyyaml in /usr/local/lib/python3.6/dist-packages (from keras) (3.13)\n",
            "Requirement already satisfied: h5py in /usr/local/lib/python3.6/dist-packages (from keras) (2.10.0)\n",
            "Requirement already satisfied: six in /usr/local/lib/python3.6/dist-packages (from h5py->keras) (1.15.0)\n"
          ],
          "name": "stdout"
        }
      ]
    },
    {
      "cell_type": "code",
      "metadata": {
        "id": "1wZ8Na6CSbW6"
      },
      "source": [
        "#TensorFlow installation"
      ],
      "execution_count": null,
      "outputs": []
    },
    {
      "cell_type": "code",
      "metadata": {
        "scrolled": true,
        "id": "tUIrru3jSbW8",
        "outputId": "631d830d-8cf8-4b7f-9ccd-e3da727233bb",
        "colab": {
          "base_uri": "https://localhost:8080/",
          "height": 690
        }
      },
      "source": [
        "pip install tensorflow"
      ],
      "execution_count": 6,
      "outputs": [
        {
          "output_type": "stream",
          "text": [
            "Requirement already satisfied: tensorflow in /usr/local/lib/python3.6/dist-packages (2.3.0)\n",
            "Requirement already satisfied: tensorboard<3,>=2.3.0 in /usr/local/lib/python3.6/dist-packages (from tensorflow) (2.3.0)\n",
            "Requirement already satisfied: tensorflow-estimator<2.4.0,>=2.3.0 in /usr/local/lib/python3.6/dist-packages (from tensorflow) (2.3.0)\n",
            "Requirement already satisfied: google-pasta>=0.1.8 in /usr/local/lib/python3.6/dist-packages (from tensorflow) (0.2.0)\n",
            "Requirement already satisfied: numpy<1.19.0,>=1.16.0 in /usr/local/lib/python3.6/dist-packages (from tensorflow) (1.18.5)\n",
            "Requirement already satisfied: opt-einsum>=2.3.2 in /usr/local/lib/python3.6/dist-packages (from tensorflow) (3.3.0)\n",
            "Requirement already satisfied: astunparse==1.6.3 in /usr/local/lib/python3.6/dist-packages (from tensorflow) (1.6.3)\n",
            "Requirement already satisfied: wheel>=0.26 in /usr/local/lib/python3.6/dist-packages (from tensorflow) (0.35.1)\n",
            "Requirement already satisfied: scipy==1.4.1 in /usr/local/lib/python3.6/dist-packages (from tensorflow) (1.4.1)\n",
            "Requirement already satisfied: grpcio>=1.8.6 in /usr/local/lib/python3.6/dist-packages (from tensorflow) (1.33.1)\n",
            "Requirement already satisfied: protobuf>=3.9.2 in /usr/local/lib/python3.6/dist-packages (from tensorflow) (3.12.4)\n",
            "Requirement already satisfied: absl-py>=0.7.0 in /usr/local/lib/python3.6/dist-packages (from tensorflow) (0.10.0)\n",
            "Requirement already satisfied: keras-preprocessing<1.2,>=1.1.1 in /usr/local/lib/python3.6/dist-packages (from tensorflow) (1.1.2)\n",
            "Requirement already satisfied: termcolor>=1.1.0 in /usr/local/lib/python3.6/dist-packages (from tensorflow) (1.1.0)\n",
            "Requirement already satisfied: wrapt>=1.11.1 in /usr/local/lib/python3.6/dist-packages (from tensorflow) (1.12.1)\n",
            "Requirement already satisfied: six>=1.12.0 in /usr/local/lib/python3.6/dist-packages (from tensorflow) (1.15.0)\n",
            "Requirement already satisfied: h5py<2.11.0,>=2.10.0 in /usr/local/lib/python3.6/dist-packages (from tensorflow) (2.10.0)\n",
            "Requirement already satisfied: gast==0.3.3 in /usr/local/lib/python3.6/dist-packages (from tensorflow) (0.3.3)\n",
            "Requirement already satisfied: requests<3,>=2.21.0 in /usr/local/lib/python3.6/dist-packages (from tensorboard<3,>=2.3.0->tensorflow) (2.23.0)\n",
            "Requirement already satisfied: werkzeug>=0.11.15 in /usr/local/lib/python3.6/dist-packages (from tensorboard<3,>=2.3.0->tensorflow) (1.0.1)\n",
            "Requirement already satisfied: markdown>=2.6.8 in /usr/local/lib/python3.6/dist-packages (from tensorboard<3,>=2.3.0->tensorflow) (3.3.2)\n",
            "Requirement already satisfied: setuptools>=41.0.0 in /usr/local/lib/python3.6/dist-packages (from tensorboard<3,>=2.3.0->tensorflow) (50.3.0)\n",
            "Requirement already satisfied: google-auth<2,>=1.6.3 in /usr/local/lib/python3.6/dist-packages (from tensorboard<3,>=2.3.0->tensorflow) (1.17.2)\n",
            "Requirement already satisfied: tensorboard-plugin-wit>=1.6.0 in /usr/local/lib/python3.6/dist-packages (from tensorboard<3,>=2.3.0->tensorflow) (1.7.0)\n",
            "Requirement already satisfied: google-auth-oauthlib<0.5,>=0.4.1 in /usr/local/lib/python3.6/dist-packages (from tensorboard<3,>=2.3.0->tensorflow) (0.4.1)\n",
            "Requirement already satisfied: idna<3,>=2.5 in /usr/local/lib/python3.6/dist-packages (from requests<3,>=2.21.0->tensorboard<3,>=2.3.0->tensorflow) (2.10)\n",
            "Requirement already satisfied: chardet<4,>=3.0.2 in /usr/local/lib/python3.6/dist-packages (from requests<3,>=2.21.0->tensorboard<3,>=2.3.0->tensorflow) (3.0.4)\n",
            "Requirement already satisfied: urllib3!=1.25.0,!=1.25.1,<1.26,>=1.21.1 in /usr/local/lib/python3.6/dist-packages (from requests<3,>=2.21.0->tensorboard<3,>=2.3.0->tensorflow) (1.24.3)\n",
            "Requirement already satisfied: certifi>=2017.4.17 in /usr/local/lib/python3.6/dist-packages (from requests<3,>=2.21.0->tensorboard<3,>=2.3.0->tensorflow) (2020.6.20)\n",
            "Requirement already satisfied: importlib-metadata; python_version < \"3.8\" in /usr/local/lib/python3.6/dist-packages (from markdown>=2.6.8->tensorboard<3,>=2.3.0->tensorflow) (2.0.0)\n",
            "Requirement already satisfied: pyasn1-modules>=0.2.1 in /usr/local/lib/python3.6/dist-packages (from google-auth<2,>=1.6.3->tensorboard<3,>=2.3.0->tensorflow) (0.2.8)\n",
            "Requirement already satisfied: rsa<5,>=3.1.4; python_version >= \"3\" in /usr/local/lib/python3.6/dist-packages (from google-auth<2,>=1.6.3->tensorboard<3,>=2.3.0->tensorflow) (4.6)\n",
            "Requirement already satisfied: cachetools<5.0,>=2.0.0 in /usr/local/lib/python3.6/dist-packages (from google-auth<2,>=1.6.3->tensorboard<3,>=2.3.0->tensorflow) (4.1.1)\n",
            "Requirement already satisfied: requests-oauthlib>=0.7.0 in /usr/local/lib/python3.6/dist-packages (from google-auth-oauthlib<0.5,>=0.4.1->tensorboard<3,>=2.3.0->tensorflow) (1.3.0)\n",
            "Requirement already satisfied: zipp>=0.5 in /usr/local/lib/python3.6/dist-packages (from importlib-metadata; python_version < \"3.8\"->markdown>=2.6.8->tensorboard<3,>=2.3.0->tensorflow) (3.3.1)\n",
            "Requirement already satisfied: pyasn1<0.5.0,>=0.4.6 in /usr/local/lib/python3.6/dist-packages (from pyasn1-modules>=0.2.1->google-auth<2,>=1.6.3->tensorboard<3,>=2.3.0->tensorflow) (0.4.8)\n",
            "Requirement already satisfied: oauthlib>=3.0.0 in /usr/local/lib/python3.6/dist-packages (from requests-oauthlib>=0.7.0->google-auth-oauthlib<0.5,>=0.4.1->tensorboard<3,>=2.3.0->tensorflow) (3.1.0)\n"
          ],
          "name": "stdout"
        }
      ]
    },
    {
      "cell_type": "code",
      "metadata": {
        "_cell_guid": "79c7e3d0-c299-4dcb-8224-4455121ee9b0",
        "_kg_hide-output": true,
        "_uuid": "d629ff2d2480ee46fbb7e2d37f6b5fab8052498a",
        "id": "CqIIdQO1SbW-"
      },
      "source": [
        "\n",
        "import os\n",
        "from sklearn.preprocessing import StandardScaler\n",
        "from sklearn.model_selection import train_test_split\n",
        "from sklearn.model_selection import GridSearchCV\n",
        "from keras.wrappers.scikit_learn import KerasClassifier\n",
        "from keras.models import Sequential\n",
        "from keras.layers import Dense, Activation, Dropout\n",
        "\n",
        "from numpy.random import seed\n",
        "#from tensorflow import set_random_seed\n",
        "import tensorflow\n",
        "tensorflow.random.set_seed(0)\n",
        "\n"
      ],
      "execution_count": 7,
      "outputs": []
    },
    {
      "cell_type": "code",
      "metadata": {
        "_uuid": "e4a7f976fc617dd1563cdcf55e6159bacaba1186",
        "id": "w_E4g8wBSbXA"
      },
      "source": [
        "#make sure you have saved dataset file beside code files, otherwise you need to address the working directory "
      ],
      "execution_count": null,
      "outputs": []
    },
    {
      "cell_type": "code",
      "metadata": {
        "_cell_guid": "79c7e3d0-c299-4dcb-8224-4455121ee9b0",
        "_kg_hide-output": true,
        "_uuid": "d629ff2d2480ee46fbb7e2d37f6b5fab8052498a",
        "id": "g8DKl66MSbXC"
      },
      "source": [
        "# Load data as Pandas dataframe\n",
        "train = pd.read_csv('train_clean.csv', )\n",
        "test = pd.read_csv('test_clean.csv')\n",
        "df = pd.concat([train, test], axis=0, sort=True)"
      ],
      "execution_count": 8,
      "outputs": []
    },
    {
      "cell_type": "code",
      "metadata": {
        "_uuid": "bafdb419c8b7f571dbbb9c0b63fd3c52c66c3c1b",
        "id": "SLafgNQnSbXD",
        "outputId": "7f5f7d48-b2f0-4bd9-d7b4-5f3d1c70ae81",
        "colab": {
          "base_uri": "https://localhost:8080/",
          "height": 198
        }
      },
      "source": [
        "df.head()"
      ],
      "execution_count": 9,
      "outputs": [
        {
          "output_type": "execute_result",
          "data": {
            "text/html": [
              "<div>\n",
              "<style scoped>\n",
              "    .dataframe tbody tr th:only-of-type {\n",
              "        vertical-align: middle;\n",
              "    }\n",
              "\n",
              "    .dataframe tbody tr th {\n",
              "        vertical-align: top;\n",
              "    }\n",
              "\n",
              "    .dataframe thead th {\n",
              "        text-align: right;\n",
              "    }\n",
              "</style>\n",
              "<table border=\"1\" class=\"dataframe\">\n",
              "  <thead>\n",
              "    <tr style=\"text-align: right;\">\n",
              "      <th></th>\n",
              "      <th>Age</th>\n",
              "      <th>Cabin</th>\n",
              "      <th>Embarked</th>\n",
              "      <th>Family_Size</th>\n",
              "      <th>Fare</th>\n",
              "      <th>Name</th>\n",
              "      <th>Parch</th>\n",
              "      <th>PassengerId</th>\n",
              "      <th>Pclass</th>\n",
              "      <th>Sex</th>\n",
              "      <th>SibSp</th>\n",
              "      <th>Survived</th>\n",
              "      <th>Ticket</th>\n",
              "      <th>Title</th>\n",
              "    </tr>\n",
              "  </thead>\n",
              "  <tbody>\n",
              "    <tr>\n",
              "      <th>0</th>\n",
              "      <td>22.0</td>\n",
              "      <td>NaN</td>\n",
              "      <td>S</td>\n",
              "      <td>1</td>\n",
              "      <td>7.2500</td>\n",
              "      <td>Braund, Mr. Owen Harris</td>\n",
              "      <td>0</td>\n",
              "      <td>1</td>\n",
              "      <td>3</td>\n",
              "      <td>male</td>\n",
              "      <td>1</td>\n",
              "      <td>0.0</td>\n",
              "      <td>A/5 21171</td>\n",
              "      <td>Mr</td>\n",
              "    </tr>\n",
              "    <tr>\n",
              "      <th>1</th>\n",
              "      <td>38.0</td>\n",
              "      <td>C85</td>\n",
              "      <td>C</td>\n",
              "      <td>1</td>\n",
              "      <td>71.2833</td>\n",
              "      <td>Cumings, Mrs. John Bradley (Florence Briggs Th...</td>\n",
              "      <td>0</td>\n",
              "      <td>2</td>\n",
              "      <td>1</td>\n",
              "      <td>female</td>\n",
              "      <td>1</td>\n",
              "      <td>1.0</td>\n",
              "      <td>PC 17599</td>\n",
              "      <td>Mrs</td>\n",
              "    </tr>\n",
              "    <tr>\n",
              "      <th>2</th>\n",
              "      <td>26.0</td>\n",
              "      <td>NaN</td>\n",
              "      <td>S</td>\n",
              "      <td>0</td>\n",
              "      <td>7.9250</td>\n",
              "      <td>Heikkinen, Miss. Laina</td>\n",
              "      <td>0</td>\n",
              "      <td>3</td>\n",
              "      <td>3</td>\n",
              "      <td>female</td>\n",
              "      <td>0</td>\n",
              "      <td>1.0</td>\n",
              "      <td>STON/O2. 3101282</td>\n",
              "      <td>Miss</td>\n",
              "    </tr>\n",
              "    <tr>\n",
              "      <th>3</th>\n",
              "      <td>35.0</td>\n",
              "      <td>C123</td>\n",
              "      <td>S</td>\n",
              "      <td>1</td>\n",
              "      <td>53.1000</td>\n",
              "      <td>Futrelle, Mrs. Jacques Heath (Lily May Peel)</td>\n",
              "      <td>0</td>\n",
              "      <td>4</td>\n",
              "      <td>1</td>\n",
              "      <td>female</td>\n",
              "      <td>1</td>\n",
              "      <td>1.0</td>\n",
              "      <td>113803</td>\n",
              "      <td>Mrs</td>\n",
              "    </tr>\n",
              "    <tr>\n",
              "      <th>4</th>\n",
              "      <td>35.0</td>\n",
              "      <td>NaN</td>\n",
              "      <td>S</td>\n",
              "      <td>0</td>\n",
              "      <td>8.0500</td>\n",
              "      <td>Allen, Mr. William Henry</td>\n",
              "      <td>0</td>\n",
              "      <td>5</td>\n",
              "      <td>3</td>\n",
              "      <td>male</td>\n",
              "      <td>0</td>\n",
              "      <td>0.0</td>\n",
              "      <td>373450</td>\n",
              "      <td>Mr</td>\n",
              "    </tr>\n",
              "  </tbody>\n",
              "</table>\n",
              "</div>"
            ],
            "text/plain": [
              "    Age Cabin Embarked  Family_Size  ...  SibSp Survived            Ticket  Title\n",
              "0  22.0   NaN        S            1  ...      1      0.0         A/5 21171     Mr\n",
              "1  38.0   C85        C            1  ...      1      1.0          PC 17599    Mrs\n",
              "2  26.0   NaN        S            0  ...      0      1.0  STON/O2. 3101282   Miss\n",
              "3  35.0  C123        S            1  ...      1      1.0            113803    Mrs\n",
              "4  35.0   NaN        S            0  ...      0      0.0            373450     Mr\n",
              "\n",
              "[5 rows x 14 columns]"
            ]
          },
          "metadata": {
            "tags": []
          },
          "execution_count": 9
        }
      ]
    },
    {
      "cell_type": "code",
      "metadata": {
        "_uuid": "d8f24917231bd2484e4c2a4896f4fbbdcc3e89ab",
        "id": "ZwmZRU8fSbXF",
        "outputId": "ff7354b5-692d-4e21-fd46-46f6b445d7d5",
        "colab": {
          "base_uri": "https://localhost:8080/",
          "height": 468
        }
      },
      "source": [
        "def display_all(df):\n",
        "    with pd.option_context(\"display.max_rows\", 1000, \"display.max_columns\", 1000): \n",
        "        display(df)\n",
        "\n",
        "        \n",
        "display_all(df.describe(include='all').T)"
      ],
      "execution_count": 10,
      "outputs": [
        {
          "output_type": "display_data",
          "data": {
            "text/html": [
              "<div>\n",
              "<style scoped>\n",
              "    .dataframe tbody tr th:only-of-type {\n",
              "        vertical-align: middle;\n",
              "    }\n",
              "\n",
              "    .dataframe tbody tr th {\n",
              "        vertical-align: top;\n",
              "    }\n",
              "\n",
              "    .dataframe thead th {\n",
              "        text-align: right;\n",
              "    }\n",
              "</style>\n",
              "<table border=\"1\" class=\"dataframe\">\n",
              "  <thead>\n",
              "    <tr style=\"text-align: right;\">\n",
              "      <th></th>\n",
              "      <th>count</th>\n",
              "      <th>unique</th>\n",
              "      <th>top</th>\n",
              "      <th>freq</th>\n",
              "      <th>mean</th>\n",
              "      <th>std</th>\n",
              "      <th>min</th>\n",
              "      <th>25%</th>\n",
              "      <th>50%</th>\n",
              "      <th>75%</th>\n",
              "      <th>max</th>\n",
              "    </tr>\n",
              "  </thead>\n",
              "  <tbody>\n",
              "    <tr>\n",
              "      <th>Age</th>\n",
              "      <td>1309</td>\n",
              "      <td>NaN</td>\n",
              "      <td>NaN</td>\n",
              "      <td>NaN</td>\n",
              "      <td>29.5624</td>\n",
              "      <td>13.1654</td>\n",
              "      <td>0.17</td>\n",
              "      <td>22</td>\n",
              "      <td>30</td>\n",
              "      <td>35.5</td>\n",
              "      <td>80</td>\n",
              "    </tr>\n",
              "    <tr>\n",
              "      <th>Cabin</th>\n",
              "      <td>295</td>\n",
              "      <td>186</td>\n",
              "      <td>C23 C25 C27</td>\n",
              "      <td>6</td>\n",
              "      <td>NaN</td>\n",
              "      <td>NaN</td>\n",
              "      <td>NaN</td>\n",
              "      <td>NaN</td>\n",
              "      <td>NaN</td>\n",
              "      <td>NaN</td>\n",
              "      <td>NaN</td>\n",
              "    </tr>\n",
              "    <tr>\n",
              "      <th>Embarked</th>\n",
              "      <td>1309</td>\n",
              "      <td>3</td>\n",
              "      <td>S</td>\n",
              "      <td>915</td>\n",
              "      <td>NaN</td>\n",
              "      <td>NaN</td>\n",
              "      <td>NaN</td>\n",
              "      <td>NaN</td>\n",
              "      <td>NaN</td>\n",
              "      <td>NaN</td>\n",
              "      <td>NaN</td>\n",
              "    </tr>\n",
              "    <tr>\n",
              "      <th>Family_Size</th>\n",
              "      <td>1309</td>\n",
              "      <td>NaN</td>\n",
              "      <td>NaN</td>\n",
              "      <td>NaN</td>\n",
              "      <td>0.883881</td>\n",
              "      <td>1.58364</td>\n",
              "      <td>0</td>\n",
              "      <td>0</td>\n",
              "      <td>0</td>\n",
              "      <td>1</td>\n",
              "      <td>10</td>\n",
              "    </tr>\n",
              "    <tr>\n",
              "      <th>Fare</th>\n",
              "      <td>1309</td>\n",
              "      <td>NaN</td>\n",
              "      <td>NaN</td>\n",
              "      <td>NaN</td>\n",
              "      <td>33.2762</td>\n",
              "      <td>51.7436</td>\n",
              "      <td>0</td>\n",
              "      <td>7.8958</td>\n",
              "      <td>14.4542</td>\n",
              "      <td>31.275</td>\n",
              "      <td>512.329</td>\n",
              "    </tr>\n",
              "    <tr>\n",
              "      <th>Name</th>\n",
              "      <td>1309</td>\n",
              "      <td>1307</td>\n",
              "      <td>Kelly, Mr. James</td>\n",
              "      <td>2</td>\n",
              "      <td>NaN</td>\n",
              "      <td>NaN</td>\n",
              "      <td>NaN</td>\n",
              "      <td>NaN</td>\n",
              "      <td>NaN</td>\n",
              "      <td>NaN</td>\n",
              "      <td>NaN</td>\n",
              "    </tr>\n",
              "    <tr>\n",
              "      <th>Parch</th>\n",
              "      <td>1309</td>\n",
              "      <td>NaN</td>\n",
              "      <td>NaN</td>\n",
              "      <td>NaN</td>\n",
              "      <td>0.385027</td>\n",
              "      <td>0.86556</td>\n",
              "      <td>0</td>\n",
              "      <td>0</td>\n",
              "      <td>0</td>\n",
              "      <td>0</td>\n",
              "      <td>9</td>\n",
              "    </tr>\n",
              "    <tr>\n",
              "      <th>PassengerId</th>\n",
              "      <td>1309</td>\n",
              "      <td>NaN</td>\n",
              "      <td>NaN</td>\n",
              "      <td>NaN</td>\n",
              "      <td>655</td>\n",
              "      <td>378.02</td>\n",
              "      <td>1</td>\n",
              "      <td>328</td>\n",
              "      <td>655</td>\n",
              "      <td>982</td>\n",
              "      <td>1309</td>\n",
              "    </tr>\n",
              "    <tr>\n",
              "      <th>Pclass</th>\n",
              "      <td>1309</td>\n",
              "      <td>NaN</td>\n",
              "      <td>NaN</td>\n",
              "      <td>NaN</td>\n",
              "      <td>2.29488</td>\n",
              "      <td>0.837836</td>\n",
              "      <td>1</td>\n",
              "      <td>2</td>\n",
              "      <td>3</td>\n",
              "      <td>3</td>\n",
              "      <td>3</td>\n",
              "    </tr>\n",
              "    <tr>\n",
              "      <th>Sex</th>\n",
              "      <td>1309</td>\n",
              "      <td>2</td>\n",
              "      <td>male</td>\n",
              "      <td>843</td>\n",
              "      <td>NaN</td>\n",
              "      <td>NaN</td>\n",
              "      <td>NaN</td>\n",
              "      <td>NaN</td>\n",
              "      <td>NaN</td>\n",
              "      <td>NaN</td>\n",
              "      <td>NaN</td>\n",
              "    </tr>\n",
              "    <tr>\n",
              "      <th>SibSp</th>\n",
              "      <td>1309</td>\n",
              "      <td>NaN</td>\n",
              "      <td>NaN</td>\n",
              "      <td>NaN</td>\n",
              "      <td>0.498854</td>\n",
              "      <td>1.04166</td>\n",
              "      <td>0</td>\n",
              "      <td>0</td>\n",
              "      <td>0</td>\n",
              "      <td>1</td>\n",
              "      <td>8</td>\n",
              "    </tr>\n",
              "    <tr>\n",
              "      <th>Survived</th>\n",
              "      <td>891</td>\n",
              "      <td>NaN</td>\n",
              "      <td>NaN</td>\n",
              "      <td>NaN</td>\n",
              "      <td>0.383838</td>\n",
              "      <td>0.486592</td>\n",
              "      <td>0</td>\n",
              "      <td>0</td>\n",
              "      <td>0</td>\n",
              "      <td>1</td>\n",
              "      <td>1</td>\n",
              "    </tr>\n",
              "    <tr>\n",
              "      <th>Ticket</th>\n",
              "      <td>1309</td>\n",
              "      <td>929</td>\n",
              "      <td>CA. 2343</td>\n",
              "      <td>11</td>\n",
              "      <td>NaN</td>\n",
              "      <td>NaN</td>\n",
              "      <td>NaN</td>\n",
              "      <td>NaN</td>\n",
              "      <td>NaN</td>\n",
              "      <td>NaN</td>\n",
              "      <td>NaN</td>\n",
              "    </tr>\n",
              "    <tr>\n",
              "      <th>Title</th>\n",
              "      <td>1309</td>\n",
              "      <td>6</td>\n",
              "      <td>Mr</td>\n",
              "      <td>767</td>\n",
              "      <td>NaN</td>\n",
              "      <td>NaN</td>\n",
              "      <td>NaN</td>\n",
              "      <td>NaN</td>\n",
              "      <td>NaN</td>\n",
              "      <td>NaN</td>\n",
              "      <td>NaN</td>\n",
              "    </tr>\n",
              "  </tbody>\n",
              "</table>\n",
              "</div>"
            ],
            "text/plain": [
              "            count unique               top freq      mean       std   min  \\\n",
              "Age          1309    NaN               NaN  NaN   29.5624   13.1654  0.17   \n",
              "Cabin         295    186       C23 C25 C27    6       NaN       NaN   NaN   \n",
              "Embarked     1309      3                 S  915       NaN       NaN   NaN   \n",
              "Family_Size  1309    NaN               NaN  NaN  0.883881   1.58364     0   \n",
              "Fare         1309    NaN               NaN  NaN   33.2762   51.7436     0   \n",
              "Name         1309   1307  Kelly, Mr. James    2       NaN       NaN   NaN   \n",
              "Parch        1309    NaN               NaN  NaN  0.385027   0.86556     0   \n",
              "PassengerId  1309    NaN               NaN  NaN       655    378.02     1   \n",
              "Pclass       1309    NaN               NaN  NaN   2.29488  0.837836     1   \n",
              "Sex          1309      2              male  843       NaN       NaN   NaN   \n",
              "SibSp        1309    NaN               NaN  NaN  0.498854   1.04166     0   \n",
              "Survived      891    NaN               NaN  NaN  0.383838  0.486592     0   \n",
              "Ticket       1309    929          CA. 2343   11       NaN       NaN   NaN   \n",
              "Title        1309      6                Mr  767       NaN       NaN   NaN   \n",
              "\n",
              "                25%      50%     75%      max  \n",
              "Age              22       30    35.5       80  \n",
              "Cabin           NaN      NaN     NaN      NaN  \n",
              "Embarked        NaN      NaN     NaN      NaN  \n",
              "Family_Size       0        0       1       10  \n",
              "Fare         7.8958  14.4542  31.275  512.329  \n",
              "Name            NaN      NaN     NaN      NaN  \n",
              "Parch             0        0       0        9  \n",
              "PassengerId     328      655     982     1309  \n",
              "Pclass            2        3       3        3  \n",
              "Sex             NaN      NaN     NaN      NaN  \n",
              "SibSp             0        0       1        8  \n",
              "Survived          0        0       1        1  \n",
              "Ticket          NaN      NaN     NaN      NaN  \n",
              "Title           NaN      NaN     NaN      NaN  "
            ]
          },
          "metadata": {
            "tags": []
          }
        }
      ]
    },
    {
      "cell_type": "markdown",
      "metadata": {
        "_cell_guid": "b1fc54e6-9655-4a05-b147-e2dfe206c7d0",
        "_uuid": "732fc7427f32d790561d03b4a6d870d2a7c67013",
        "id": "0acPAfv8SbXH"
      },
      "source": [
        "<a id=\"pre-processing\"></a>\n",
        "# 2. Pre-processing\n",
        "<a id=\"encoding\"></a>\n",
        "## 2.1. Encode Categorical Variables\n",
        "We need to convert all categorical variables into numeric format. The categorical variables we will be keeping are `Embarked`, `Sex` and `Title`.   \n",
        "\n",
        "The `Sex` variable can be encoded into single 1-or-0 column, but the other variables will need to be [one-hot encoded](https://hackernoon.com/what-is-one-hot-encoding-why-and-when-do-you-have-to-use-it-e3c6186d008f). Regular label encoding assigns some category labels higher numerical values. This implies some sort of scale (Embarked = 1 is not **more** than Embarked = 0 - it's just _different_). One Hot Encoding avoids this problem.   \n",
        "\n",
        "We will assume that there is some ordinality in the `Pclass` variable, so we will leave that as a single column."
      ]
    },
    {
      "cell_type": "code",
      "metadata": {
        "_uuid": "7d6d38029e57b2b7eecd8978b4f3b9ab2bbf79d9",
        "scrolled": true,
        "id": "dPNq2jDfSbXH",
        "outputId": "b1123373-aa94-453c-c507-e690ebdd9281",
        "colab": {
          "base_uri": "https://localhost:8080/",
          "height": 281
        }
      },
      "source": [
        "sns.countplot(x='Pclass', data=df, palette='hls', hue='Survived')\n",
        "plt.xticks(rotation=45)\n",
        "plt.show()"
      ],
      "execution_count": 11,
      "outputs": [
        {
          "output_type": "display_data",
          "data": {
            "image/png": "[encoded data removed]",
            "text/plain": [
              "<Figure size 432x288 with 1 Axes>"
            ]
          },
          "metadata": {
            "tags": [],
            "needs_background": "light"
          }
        }
      ]
    },
    {
      "cell_type": "code",
      "metadata": {
        "_uuid": "3b5e6978df59b98a614297659371823a4a5dbbcc",
        "id": "XRytE6HRSbXM",
        "outputId": "369a7f9e-e954-4fd9-be8f-427b05df6f75",
        "colab": {
          "base_uri": "https://localhost:8080/",
          "height": 301
        }
      },
      "source": [
        "sns.countplot(x='Sex', data=df, palette='hls', hue='Survived')\n",
        "plt.xticks(rotation=45)\n",
        "plt.show()"
      ],
      "execution_count": 12,
      "outputs": [
        {
          "output_type": "display_data",
          "data": {
            "image/png": "[encoded data removed]",
            "text/plain": [
              "<Figure size 432x288 with 1 Axes>"
            ]
          },
          "metadata": {
            "tags": [],
            "needs_background": "light"
          }
        }
      ]
    },
    {
      "cell_type": "code",
      "metadata": {
        "_uuid": "74e4e4d6a937c94fda45dcd135c8f2936707c8d6",
        "id": "wVSmdb3qSbXO",
        "outputId": "2a3f13d0-6086-48ca-b686-29786c9ca71d",
        "colab": {
          "base_uri": "https://localhost:8080/",
          "height": 282
        }
      },
      "source": [
        "sns.countplot(x='Embarked', data=df, palette='hls', hue='Survived')\n",
        "plt.xticks(rotation=45)\n",
        "plt.show()"
      ],
      "execution_count": 13,
      "outputs": [
        {
          "output_type": "display_data",
          "data": {
            "image/png": "[encoded data removed]",
            "text/plain": [
              "<Figure size 432x288 with 1 Axes>"
            ]
          },
          "metadata": {
            "tags": [],
            "needs_background": "light"
          }
        }
      ]
    },
    {
      "cell_type": "code",
      "metadata": {
        "_uuid": "e4350c9dbdfedb4a92d266b30daa3e0e35f3f322",
        "id": "JTTl42qTSbXP"
      },
      "source": [
        "# convert to cateogry dtype\n",
        "df['Sex'] = df['Sex'].astype('category')\n",
        "# convert to category codes\n",
        "df['Sex'] = df['Sex'].cat.codes"
      ],
      "execution_count": 14,
      "outputs": []
    },
    {
      "cell_type": "code",
      "metadata": {
        "_cell_guid": "ddf8a643-1c1d-4036-818c-0d230a05310d",
        "_uuid": "911939a11430319dbda5a2c533c6b8c077a46766",
        "id": "vt84g7wwSbXR"
      },
      "source": [
        "# subset all categorical variables which need to be encoded\n",
        "categorical = ['Embarked', 'Title']\n",
        "\n",
        "for var in categorical:\n",
        "    df = pd.concat([df, \n",
        "                    pd.get_dummies(df[var], prefix=var)], axis=1)\n",
        "    del df[var]"
      ],
      "execution_count": 15,
      "outputs": []
    },
    {
      "cell_type": "code",
      "metadata": {
        "_uuid": "ecfe8fb0453e91f3a8cf80c45ed8ad4a406e0e0c",
        "id": "sGfriGgKSbXS"
      },
      "source": [
        "# drop the variables we won't be using\n",
        "df.drop(['Cabin', 'Name', 'Ticket', 'PassengerId'], axis=1, inplace=True)"
      ],
      "execution_count": 16,
      "outputs": []
    },
    {
      "cell_type": "code",
      "metadata": {
        "_uuid": "416083bad67fefd62cfee27da0f60bdb57a9540b",
        "id": "YWxOS2dpSbXU",
        "outputId": "70cbf26f-22e4-4fb6-d99c-22f639225ba2",
        "colab": {
          "base_uri": "https://localhost:8080/",
          "height": 198
        }
      },
      "source": [
        "df.head()"
      ],
      "execution_count": 17,
      "outputs": [
        {
          "output_type": "execute_result",
          "data": {
            "text/html": [
              "<div>\n",
              "<style scoped>\n",
              "    .dataframe tbody tr th:only-of-type {\n",
              "        vertical-align: middle;\n",
              "    }\n",
              "\n",
              "    .dataframe tbody tr th {\n",
              "        vertical-align: top;\n",
              "    }\n",
              "\n",
              "    .dataframe thead th {\n",
              "        text-align: right;\n",
              "    }\n",
              "</style>\n",
              "<table border=\"1\" class=\"dataframe\">\n",
              "  <thead>\n",
              "    <tr style=\"text-align: right;\">\n",
              "      <th></th>\n",
              "      <th>Age</th>\n",
              "      <th>Family_Size</th>\n",
              "      <th>Fare</th>\n",
              "      <th>Parch</th>\n",
              "      <th>Pclass</th>\n",
              "      <th>Sex</th>\n",
              "      <th>SibSp</th>\n",
              "      <th>Survived</th>\n",
              "      <th>Embarked_C</th>\n",
              "      <th>Embarked_Q</th>\n",
              "      <th>Embarked_S</th>\n",
              "      <th>Title_Dr</th>\n",
              "      <th>Title_Master</th>\n",
              "      <th>Title_Miss</th>\n",
              "      <th>Title_Mr</th>\n",
              "      <th>Title_Mrs</th>\n",
              "      <th>Title_Rev</th>\n",
              "    </tr>\n",
              "  </thead>\n",
              "  <tbody>\n",
              "    <tr>\n",
              "      <th>0</th>\n",
              "      <td>22.0</td>\n",
              "      <td>1</td>\n",
              "      <td>7.2500</td>\n",
              "      <td>0</td>\n",
              "      <td>3</td>\n",
              "      <td>1</td>\n",
              "      <td>1</td>\n",
              "      <td>0.0</td>\n",
              "      <td>0</td>\n",
              "      <td>0</td>\n",
              "      <td>1</td>\n",
              "      <td>0</td>\n",
              "      <td>0</td>\n",
              "      <td>0</td>\n",
              "      <td>1</td>\n",
              "      <td>0</td>\n",
              "      <td>0</td>\n",
              "    </tr>\n",
              "    <tr>\n",
              "      <th>1</th>\n",
              "      <td>38.0</td>\n",
              "      <td>1</td>\n",
              "      <td>71.2833</td>\n",
              "      <td>0</td>\n",
              "      <td>1</td>\n",
              "      <td>0</td>\n",
              "      <td>1</td>\n",
              "      <td>1.0</td>\n",
              "      <td>1</td>\n",
              "      <td>0</td>\n",
              "      <td>0</td>\n",
              "      <td>0</td>\n",
              "      <td>0</td>\n",
              "      <td>0</td>\n",
              "      <td>0</td>\n",
              "      <td>1</td>\n",
              "      <td>0</td>\n",
              "    </tr>\n",
              "    <tr>\n",
              "      <th>2</th>\n",
              "      <td>26.0</td>\n",
              "      <td>0</td>\n",
              "      <td>7.9250</td>\n",
              "      <td>0</td>\n",
              "      <td>3</td>\n",
              "      <td>0</td>\n",
              "      <td>0</td>\n",
              "      <td>1.0</td>\n",
              "      <td>0</td>\n",
              "      <td>0</td>\n",
              "      <td>1</td>\n",
              "      <td>0</td>\n",
              "      <td>0</td>\n",
              "      <td>1</td>\n",
              "      <td>0</td>\n",
              "      <td>0</td>\n",
              "      <td>0</td>\n",
              "    </tr>\n",
              "    <tr>\n",
              "      <th>3</th>\n",
              "      <td>35.0</td>\n",
              "      <td>1</td>\n",
              "      <td>53.1000</td>\n",
              "      <td>0</td>\n",
              "      <td>1</td>\n",
              "      <td>0</td>\n",
              "      <td>1</td>\n",
              "      <td>1.0</td>\n",
              "      <td>0</td>\n",
              "      <td>0</td>\n",
              "      <td>1</td>\n",
              "      <td>0</td>\n",
              "      <td>0</td>\n",
              "      <td>0</td>\n",
              "      <td>0</td>\n",
              "      <td>1</td>\n",
              "      <td>0</td>\n",
              "    </tr>\n",
              "    <tr>\n",
              "      <th>4</th>\n",
              "      <td>35.0</td>\n",
              "      <td>0</td>\n",
              "      <td>8.0500</td>\n",
              "      <td>0</td>\n",
              "      <td>3</td>\n",
              "      <td>1</td>\n",
              "      <td>0</td>\n",
              "      <td>0.0</td>\n",
              "      <td>0</td>\n",
              "      <td>0</td>\n",
              "      <td>1</td>\n",
              "      <td>0</td>\n",
              "      <td>0</td>\n",
              "      <td>0</td>\n",
              "      <td>1</td>\n",
              "      <td>0</td>\n",
              "      <td>0</td>\n",
              "    </tr>\n",
              "  </tbody>\n",
              "</table>\n",
              "</div>"
            ],
            "text/plain": [
              "    Age  Family_Size     Fare  ...  Title_Mr  Title_Mrs  Title_Rev\n",
              "0  22.0            1   7.2500  ...         1          0          0\n",
              "1  38.0            1  71.2833  ...         0          1          0\n",
              "2  26.0            0   7.9250  ...         0          0          0\n",
              "3  35.0            1  53.1000  ...         0          1          0\n",
              "4  35.0            0   8.0500  ...         1          0          0\n",
              "\n",
              "[5 rows x 17 columns]"
            ]
          },
          "metadata": {
            "tags": []
          },
          "execution_count": 17
        }
      ]
    },
    {
      "cell_type": "markdown",
      "metadata": {
        "_cell_guid": "93184d3e-b8d2-4ff9-8ca1-1bcc0330b26b",
        "_uuid": "49cdd41345edc32fc7b4441efa558fc39fd5a1f2",
        "id": "9j5nYuiBSbXV"
      },
      "source": [
        "## 2.2. Scale Continuous Variables\n",
        "The continuous variables need to be scaled. This is done using a standard scaler from SkLearn."
      ]
    },
    {
      "cell_type": "code",
      "metadata": {
        "_uuid": "2a32ec90f5150897398f01bd760b6ecbc959e451",
        "id": "7uCYqPIeSbXW"
      },
      "source": [
        "from sklearn.preprocessing import StandardScaler\n",
        "\n",
        "continuous = ['Age', 'Fare', 'Parch', 'Pclass', 'SibSp', 'Family_Size']\n",
        "\n",
        "scaler = StandardScaler()\n",
        "\n",
        "for var in continuous:\n",
        "    df[var] = df[var].astype('float64')\n",
        "    df[var] = scaler.fit_transform(df[var].values.reshape(-1, 1))"
      ],
      "execution_count": 20,
      "outputs": []
    },
    {
      "cell_type": "code",
      "metadata": {
        "id": "Y2kWe8FnSbXX"
      },
      "source": [
        "## we will define the following function, where we set max.rows and max.columns to 1000.\n",
        "def display_all(df):\n",
        "    with pd.option_context(\"display.max_rows\", 1000, \"display.max_columns\", 1000): \n",
        "        display(df)"
      ],
      "execution_count": 21,
      "outputs": []
    },
    {
      "cell_type": "code",
      "metadata": {
        "_uuid": "48b3f476bfd1b6b307560d0f7a81122fd7b4f2bd",
        "id": "Dd3WVBjgSbXa",
        "outputId": "5eb41ffc-273c-4b06-eb9a-7b13a555d7c0",
        "colab": {
          "base_uri": "https://localhost:8080/",
          "height": 558
        }
      },
      "source": [
        "display_all(df.describe(include='all').T)"
      ],
      "execution_count": 22,
      "outputs": [
        {
          "output_type": "display_data",
          "data": {
            "text/html": [
              "<div>\n",
              "<style scoped>\n",
              "    .dataframe tbody tr th:only-of-type {\n",
              "        vertical-align: middle;\n",
              "    }\n",
              "\n",
              "    .dataframe tbody tr th {\n",
              "        vertical-align: top;\n",
              "    }\n",
              "\n",
              "    .dataframe thead th {\n",
              "        text-align: right;\n",
              "    }\n",
              "</style>\n",
              "<table border=\"1\" class=\"dataframe\">\n",
              "  <thead>\n",
              "    <tr style=\"text-align: right;\">\n",
              "      <th></th>\n",
              "      <th>count</th>\n",
              "      <th>mean</th>\n",
              "      <th>std</th>\n",
              "      <th>min</th>\n",
              "      <th>25%</th>\n",
              "      <th>50%</th>\n",
              "      <th>75%</th>\n",
              "      <th>max</th>\n",
              "    </tr>\n",
              "  </thead>\n",
              "  <tbody>\n",
              "    <tr>\n",
              "      <th>Age</th>\n",
              "      <td>1309.0</td>\n",
              "      <td>1.306145e-16</td>\n",
              "      <td>1.000382</td>\n",
              "      <td>-2.233408</td>\n",
              "      <td>-0.574635</td>\n",
              "      <td>0.033252</td>\n",
              "      <td>0.451175</td>\n",
              "      <td>3.832549</td>\n",
              "    </tr>\n",
              "    <tr>\n",
              "      <th>Family_Size</th>\n",
              "      <td>1309.0</td>\n",
              "      <td>2.593630e-16</td>\n",
              "      <td>1.000382</td>\n",
              "      <td>-0.558346</td>\n",
              "      <td>-0.558346</td>\n",
              "      <td>-0.558346</td>\n",
              "      <td>0.073352</td>\n",
              "      <td>5.758637</td>\n",
              "    </tr>\n",
              "    <tr>\n",
              "      <th>Fare</th>\n",
              "      <td>1309.0</td>\n",
              "      <td>-6.780927e-17</td>\n",
              "      <td>1.000382</td>\n",
              "      <td>-0.643344</td>\n",
              "      <td>-0.490691</td>\n",
              "      <td>-0.363894</td>\n",
              "      <td>-0.038690</td>\n",
              "      <td>9.261749</td>\n",
              "    </tr>\n",
              "    <tr>\n",
              "      <th>Parch</th>\n",
              "      <td>1309.0</td>\n",
              "      <td>-8.549311e-17</td>\n",
              "      <td>1.000382</td>\n",
              "      <td>-0.445000</td>\n",
              "      <td>-0.445000</td>\n",
              "      <td>-0.445000</td>\n",
              "      <td>-0.445000</td>\n",
              "      <td>9.956864</td>\n",
              "    </tr>\n",
              "    <tr>\n",
              "      <th>Pclass</th>\n",
              "      <td>1309.0</td>\n",
              "      <td>-3.901471e-17</td>\n",
              "      <td>1.000382</td>\n",
              "      <td>-1.546098</td>\n",
              "      <td>-0.352091</td>\n",
              "      <td>0.841916</td>\n",
              "      <td>0.841916</td>\n",
              "      <td>0.841916</td>\n",
              "    </tr>\n",
              "    <tr>\n",
              "      <th>Sex</th>\n",
              "      <td>1309.0</td>\n",
              "      <td>6.440031e-01</td>\n",
              "      <td>0.478997</td>\n",
              "      <td>0.000000</td>\n",
              "      <td>0.000000</td>\n",
              "      <td>1.000000</td>\n",
              "      <td>1.000000</td>\n",
              "      <td>1.000000</td>\n",
              "    </tr>\n",
              "    <tr>\n",
              "      <th>SibSp</th>\n",
              "      <td>1309.0</td>\n",
              "      <td>-6.375937e-16</td>\n",
              "      <td>1.000382</td>\n",
              "      <td>-0.479087</td>\n",
              "      <td>-0.479087</td>\n",
              "      <td>-0.479087</td>\n",
              "      <td>0.481288</td>\n",
              "      <td>7.203909</td>\n",
              "    </tr>\n",
              "    <tr>\n",
              "      <th>Survived</th>\n",
              "      <td>891.0</td>\n",
              "      <td>3.838384e-01</td>\n",
              "      <td>0.486592</td>\n",
              "      <td>0.000000</td>\n",
              "      <td>0.000000</td>\n",
              "      <td>0.000000</td>\n",
              "      <td>1.000000</td>\n",
              "      <td>1.000000</td>\n",
              "    </tr>\n",
              "    <tr>\n",
              "      <th>Embarked_C</th>\n",
              "      <td>1309.0</td>\n",
              "      <td>2.070283e-01</td>\n",
              "      <td>0.405331</td>\n",
              "      <td>0.000000</td>\n",
              "      <td>0.000000</td>\n",
              "      <td>0.000000</td>\n",
              "      <td>0.000000</td>\n",
              "      <td>1.000000</td>\n",
              "    </tr>\n",
              "    <tr>\n",
              "      <th>Embarked_Q</th>\n",
              "      <td>1309.0</td>\n",
              "      <td>9.396486e-02</td>\n",
              "      <td>0.291891</td>\n",
              "      <td>0.000000</td>\n",
              "      <td>0.000000</td>\n",
              "      <td>0.000000</td>\n",
              "      <td>0.000000</td>\n",
              "      <td>1.000000</td>\n",
              "    </tr>\n",
              "    <tr>\n",
              "      <th>Embarked_S</th>\n",
              "      <td>1309.0</td>\n",
              "      <td>6.990069e-01</td>\n",
              "      <td>0.458865</td>\n",
              "      <td>0.000000</td>\n",
              "      <td>0.000000</td>\n",
              "      <td>1.000000</td>\n",
              "      <td>1.000000</td>\n",
              "      <td>1.000000</td>\n",
              "    </tr>\n",
              "    <tr>\n",
              "      <th>Title_Dr</th>\n",
              "      <td>1309.0</td>\n",
              "      <td>6.111536e-03</td>\n",
              "      <td>0.077967</td>\n",
              "      <td>0.000000</td>\n",
              "      <td>0.000000</td>\n",
              "      <td>0.000000</td>\n",
              "      <td>0.000000</td>\n",
              "      <td>1.000000</td>\n",
              "    </tr>\n",
              "    <tr>\n",
              "      <th>Title_Master</th>\n",
              "      <td>1309.0</td>\n",
              "      <td>4.660046e-02</td>\n",
              "      <td>0.210862</td>\n",
              "      <td>0.000000</td>\n",
              "      <td>0.000000</td>\n",
              "      <td>0.000000</td>\n",
              "      <td>0.000000</td>\n",
              "      <td>1.000000</td>\n",
              "    </tr>\n",
              "    <tr>\n",
              "      <th>Title_Miss</th>\n",
              "      <td>1309.0</td>\n",
              "      <td>2.016807e-01</td>\n",
              "      <td>0.401408</td>\n",
              "      <td>0.000000</td>\n",
              "      <td>0.000000</td>\n",
              "      <td>0.000000</td>\n",
              "      <td>0.000000</td>\n",
              "      <td>1.000000</td>\n",
              "    </tr>\n",
              "    <tr>\n",
              "      <th>Title_Mr</th>\n",
              "      <td>1309.0</td>\n",
              "      <td>5.859435e-01</td>\n",
              "      <td>0.492747</td>\n",
              "      <td>0.000000</td>\n",
              "      <td>0.000000</td>\n",
              "      <td>1.000000</td>\n",
              "      <td>1.000000</td>\n",
              "      <td>1.000000</td>\n",
              "    </tr>\n",
              "    <tr>\n",
              "      <th>Title_Mrs</th>\n",
              "      <td>1309.0</td>\n",
              "      <td>1.535523e-01</td>\n",
              "      <td>0.360657</td>\n",
              "      <td>0.000000</td>\n",
              "      <td>0.000000</td>\n",
              "      <td>0.000000</td>\n",
              "      <td>0.000000</td>\n",
              "      <td>1.000000</td>\n",
              "    </tr>\n",
              "    <tr>\n",
              "      <th>Title_Rev</th>\n",
              "      <td>1309.0</td>\n",
              "      <td>6.111536e-03</td>\n",
              "      <td>0.077967</td>\n",
              "      <td>0.000000</td>\n",
              "      <td>0.000000</td>\n",
              "      <td>0.000000</td>\n",
              "      <td>0.000000</td>\n",
              "      <td>1.000000</td>\n",
              "    </tr>\n",
              "  </tbody>\n",
              "</table>\n",
              "</div>"
            ],
            "text/plain": [
              "               count          mean       std       min       25%       50%  \\\n",
              "Age           1309.0  1.306145e-16  1.000382 -2.233408 -0.574635  0.033252   \n",
              "Family_Size   1309.0  2.593630e-16  1.000382 -0.558346 -0.558346 -0.558346   \n",
              "Fare          1309.0 -6.780927e-17  1.000382 -0.643344 -0.490691 -0.363894   \n",
              "Parch         1309.0 -8.549311e-17  1.000382 -0.445000 -0.445000 -0.445000   \n",
              "Pclass        1309.0 -3.901471e-17  1.000382 -1.546098 -0.352091  0.841916   \n",
              "Sex           1309.0  6.440031e-01  0.478997  0.000000  0.000000  1.000000   \n",
              "SibSp         1309.0 -6.375937e-16  1.000382 -0.479087 -0.479087 -0.479087   \n",
              "Survived       891.0  3.838384e-01  0.486592  0.000000  0.000000  0.000000   \n",
              "Embarked_C    1309.0  2.070283e-01  0.405331  0.000000  0.000000  0.000000   \n",
              "Embarked_Q    1309.0  9.396486e-02  0.291891  0.000000  0.000000  0.000000   \n",
              "Embarked_S    1309.0  6.990069e-01  0.458865  0.000000  0.000000  1.000000   \n",
              "Title_Dr      1309.0  6.111536e-03  0.077967  0.000000  0.000000  0.000000   \n",
              "Title_Master  1309.0  4.660046e-02  0.210862  0.000000  0.000000  0.000000   \n",
              "Title_Miss    1309.0  2.016807e-01  0.401408  0.000000  0.000000  0.000000   \n",
              "Title_Mr      1309.0  5.859435e-01  0.492747  0.000000  0.000000  1.000000   \n",
              "Title_Mrs     1309.0  1.535523e-01  0.360657  0.000000  0.000000  0.000000   \n",
              "Title_Rev     1309.0  6.111536e-03  0.077967  0.000000  0.000000  0.000000   \n",
              "\n",
              "                   75%       max  \n",
              "Age           0.451175  3.832549  \n",
              "Family_Size   0.073352  5.758637  \n",
              "Fare         -0.038690  9.261749  \n",
              "Parch        -0.445000  9.956864  \n",
              "Pclass        0.841916  0.841916  \n",
              "Sex           1.000000  1.000000  \n",
              "SibSp         0.481288  7.203909  \n",
              "Survived      1.000000  1.000000  \n",
              "Embarked_C    0.000000  1.000000  \n",
              "Embarked_Q    0.000000  1.000000  \n",
              "Embarked_S    1.000000  1.000000  \n",
              "Title_Dr      0.000000  1.000000  \n",
              "Title_Master  0.000000  1.000000  \n",
              "Title_Miss    0.000000  1.000000  \n",
              "Title_Mr      1.000000  1.000000  \n",
              "Title_Mrs     0.000000  1.000000  \n",
              "Title_Rev     0.000000  1.000000  "
            ]
          },
          "metadata": {
            "tags": []
          }
        }
      ]
    },
    {
      "cell_type": "markdown",
      "metadata": {
        "_cell_guid": "bc50ae8f-a1d7-48b6-9771-e50b4e8e169b",
        "_uuid": "bbead52ea8dd6e9cba5da969375c7829a34b87d4",
        "id": "ykSr1n1MSbXc"
      },
      "source": [
        "<a id=\"neural-network\"></a>\n",
        "# 3. Neural Network\n",
        "Now, all that is left is to feed our data that has been cleaned, encoded and scaled to our neural network.\n",
        "\n",
        "But first, we need to separate *data_df* back into *train* and *test* sets."
      ]
    },
    {
      "cell_type": "code",
      "metadata": {
        "_uuid": "c3fffdde68114df12c2a1871d8501cae18a2e2ce",
        "id": "G-2ZRWCOSbXc"
      },
      "source": [
        "X_train = df[pd.notnull(df['Survived'])].drop(['Survived'], axis=1)\n",
        "y_train = df[pd.notnull(df['Survived'])]['Survived']\n",
        "X_test = df[pd.isnull(df['Survived'])].drop(['Survived'], axis=1)"
      ],
      "execution_count": 23,
      "outputs": []
    },
    {
      "cell_type": "markdown",
      "metadata": {
        "id": "SIR84pJ9SbXe"
      },
      "source": [
        "3.0 Create a simple model\n",
        "\n",
        "The following code builds a simple deep learning model:"
      ]
    },
    {
      "cell_type": "code",
      "metadata": {
        "id": "ygvg_8uySbXe"
      },
      "source": [
        "     # step 1\n",
        "    # set random seed for reproducibility\n",
        "seed(42)\n",
        "    # set_random_seed(42)\n",
        "tensorflow.random.set_seed(42)\n",
        "    # step 2 #\n",
        "    # create a sequential model\n",
        "      \n",
        "mymodel = Sequential()\n",
        "    \n",
        "    # create first hidden layer\n",
        "mymodel.add(Dense(11, input_dim=X_train.shape[1], activation='linear'))\n",
        "    \n",
        "    # create additional hidden layer\n",
        "mymodel.add(Dense(10, activation='linear'))\n",
        "    \n",
        "    # add dropout, default is none\n",
        "#    model.add(Dropout(dr))\n",
        "    \n",
        "    # create output layer\n",
        "mymodel.add(Dense(1, activation='sigmoid'))  # output layer\n",
        "    \n",
        "  #  mymodel.compile(loss='binary_crossentropy', optimizer=opt, metrics=['accuracy'])\n"
      ],
      "execution_count": 24,
      "outputs": []
    },
    {
      "cell_type": "markdown",
      "metadata": {
        "id": "-yWulVOgSbXg"
      },
      "source": [
        "Loss function and optimizing function should be specified"
      ]
    },
    {
      "cell_type": "code",
      "metadata": {
        "id": "neja8vtRSbXh"
      },
      "source": [
        "mymodel.compile(loss='binary_crossentropy', optimizer='Adam', metrics=['accuracy'])"
      ],
      "execution_count": 25,
      "outputs": []
    },
    {
      "cell_type": "code",
      "metadata": {
        "id": "Nb8zgv8lSbXj",
        "outputId": "2e78e026-8d27-452f-c3ce-b5ca2653fc8d",
        "colab": {
          "base_uri": "https://localhost:8080/",
          "height": 290
        }
      },
      "source": [
        "print(mymodel.summary())"
      ],
      "execution_count": 26,
      "outputs": [
        {
          "output_type": "stream",
          "text": [
            "Model: \"sequential\"\n",
            "_________________________________________________________________\n",
            "Layer (type)                 Output Shape              Param #   \n",
            "=================================================================\n",
            "dense (Dense)                (None, 11)                187       \n",
            "_________________________________________________________________\n",
            "dense_1 (Dense)              (None, 10)                120       \n",
            "_________________________________________________________________\n",
            "dense_2 (Dense)              (None, 1)                 11        \n",
            "=================================================================\n",
            "Total params: 318\n",
            "Trainable params: 318\n",
            "Non-trainable params: 0\n",
            "_________________________________________________________________\n",
            "None\n"
          ],
          "name": "stdout"
        }
      ]
    },
    {
      "cell_type": "code",
      "metadata": {
        "id": "G7Zf55CpSbXl"
      },
      "source": [
        "#training.history"
      ],
      "execution_count": null,
      "outputs": []
    },
    {
      "cell_type": "markdown",
      "metadata": {
        "id": "_BWCZAf8SbXm"
      },
      "source": [
        "Fit the model and check the accuracy of the model"
      ]
    },
    {
      "cell_type": "code",
      "metadata": {
        "id": "jE-5DD7aSbXm",
        "outputId": "adb70d1c-f068-45d7-d06e-7666dd2f4e9b",
        "colab": {
          "base_uri": "https://localhost:8080/",
          "height": 54
        }
      },
      "source": [
        "# train model on full train set, with 80/20 CV split\n",
        "training = mymodel.fit(X_train, y_train, epochs=100, batch_size=32, validation_split=0.2, verbose=0)\n",
        "val_acc = np.mean(training.history['val_accuracy'])\n",
        "print(\"\\n%s: %.2f%%\" % ('val_acc', val_acc*100))"
      ],
      "execution_count": 27,
      "outputs": [
        {
          "output_type": "stream",
          "text": [
            "\n",
            "val_acc: 87.83%\n"
          ],
          "name": "stdout"
        }
      ]
    },
    {
      "cell_type": "code",
      "metadata": {
        "scrolled": true,
        "id": "u0IgvRVsSbXo",
        "outputId": "9d509ea7-350f-4751-a18b-6a0347288fd9",
        "colab": {
          "base_uri": "https://localhost:8080/",
          "height": 295
        }
      },
      "source": [
        "# summarize history for accuracy\n",
        "plt.plot(training.history['val_accuracy'])\n",
        "plt.plot(training.history['accuracy'])\n",
        "plt.title('model accuracy')\n",
        "plt.ylabel('accuracy')\n",
        "plt.xlabel('epoch')\n",
        "plt.legend(['train', 'validation'], loc='upper left')\n",
        "plt.show()"
      ],
      "execution_count": 28,
      "outputs": [
        {
          "output_type": "display_data",
          "data": {
            "image/png": "[encoded data removed]",
            "text/plain": [
              "<Figure size 432x288 with 1 Axes>"
            ]
          },
          "metadata": {
            "tags": [],
            "needs_background": "light"
          }
        }
      ]
    },
    {
      "cell_type": "markdown",
      "metadata": {
        "id": "lZt-maR3SbXq"
      },
      "source": [
        "#*****************************************************\n",
        "######### Try to improve the model\n",
        "Add another layer and check the model\n"
      ]
    },
    {
      "cell_type": "code",
      "metadata": {
        "id": "tgqZQzkjSbXq",
        "outputId": "954f8607-bc4f-4d2f-f7ed-3807a2c7e3de"
      },
      "source": [
        "# calculate predictions\n",
        "test['Survived'] = mymodel.predict(X_test)\n",
        "test['Survived'] = test['Survived'].apply(lambda x: round(x,0)).astype('int')\n",
        "solution = test[['PassengerId', 'Survived']]\n",
        "solution"
      ],
      "execution_count": null,
      "outputs": [
        {
          "output_type": "execute_result",
          "data": {
            "text/html": [
              "<div>\n",
              "<style scoped>\n",
              "    .dataframe tbody tr th:only-of-type {\n",
              "        vertical-align: middle;\n",
              "    }\n",
              "\n",
              "    .dataframe tbody tr th {\n",
              "        vertical-align: top;\n",
              "    }\n",
              "\n",
              "    .dataframe thead th {\n",
              "        text-align: right;\n",
              "    }\n",
              "</style>\n",
              "<table border=\"1\" class=\"dataframe\">\n",
              "  <thead>\n",
              "    <tr style=\"text-align: right;\">\n",
              "      <th></th>\n",
              "      <th>PassengerId</th>\n",
              "      <th>Survived</th>\n",
              "    </tr>\n",
              "  </thead>\n",
              "  <tbody>\n",
              "    <tr>\n",
              "      <td>0</td>\n",
              "      <td>892</td>\n",
              "      <td>0</td>\n",
              "    </tr>\n",
              "    <tr>\n",
              "      <td>1</td>\n",
              "      <td>893</td>\n",
              "      <td>1</td>\n",
              "    </tr>\n",
              "    <tr>\n",
              "      <td>2</td>\n",
              "      <td>894</td>\n",
              "      <td>0</td>\n",
              "    </tr>\n",
              "    <tr>\n",
              "      <td>3</td>\n",
              "      <td>895</td>\n",
              "      <td>0</td>\n",
              "    </tr>\n",
              "    <tr>\n",
              "      <td>4</td>\n",
              "      <td>896</td>\n",
              "      <td>1</td>\n",
              "    </tr>\n",
              "    <tr>\n",
              "      <td>...</td>\n",
              "      <td>...</td>\n",
              "      <td>...</td>\n",
              "    </tr>\n",
              "    <tr>\n",
              "      <td>413</td>\n",
              "      <td>1305</td>\n",
              "      <td>0</td>\n",
              "    </tr>\n",
              "    <tr>\n",
              "      <td>414</td>\n",
              "      <td>1306</td>\n",
              "      <td>1</td>\n",
              "    </tr>\n",
              "    <tr>\n",
              "      <td>415</td>\n",
              "      <td>1307</td>\n",
              "      <td>0</td>\n",
              "    </tr>\n",
              "    <tr>\n",
              "      <td>416</td>\n",
              "      <td>1308</td>\n",
              "      <td>0</td>\n",
              "    </tr>\n",
              "    <tr>\n",
              "      <td>417</td>\n",
              "      <td>1309</td>\n",
              "      <td>1</td>\n",
              "    </tr>\n",
              "  </tbody>\n",
              "</table>\n",
              "<p>418 rows × 2 columns</p>\n",
              "</div>"
            ],
            "text/plain": [
              "     PassengerId  Survived\n",
              "0            892         0\n",
              "1            893         1\n",
              "2            894         0\n",
              "3            895         0\n",
              "4            896         1\n",
              "..           ...       ...\n",
              "413         1305         0\n",
              "414         1306         1\n",
              "415         1307         0\n",
              "416         1308         0\n",
              "417         1309         1\n",
              "\n",
              "[418 rows x 2 columns]"
            ]
          },
          "metadata": {
            "tags": []
          },
          "execution_count": 63
        }
      ]
    },
    {
      "cell_type": "code",
      "metadata": {
        "id": "KuBY4DthSbXs"
      },
      "source": [
        ""
      ],
      "execution_count": null,
      "outputs": []
    },
    {
      "cell_type": "code",
      "metadata": {
        "id": "j2IhDsegSbXu"
      },
      "source": [
        "mymodel = Sequential()\n",
        "    \n",
        "    # create first hidden layer\n",
        "mymodel.add(Dense(1, input_dim=X_train.shape[1], activation='linear'))\n",
        "\n",
        "mymodel.add(Dense(10, activation='linear'))\n",
        "mymodel.add(Dense(10, activation='linear'))\n",
        "mymodel.add(Dense(10, activation='linear')) # the third layer (added) (New)\n",
        "\n",
        "mymodel.add(Dense(1, activation='sigmoid'))  # output layer"
      ],
      "execution_count": null,
      "outputs": []
    },
    {
      "cell_type": "code",
      "metadata": {
        "id": "XTlxLiWJSbXv",
        "outputId": "0c8058ce-eab7-4609-c0a0-65e827c5e917"
      },
      "source": [
        "mymodel.compile(loss='binary_crossentropy', optimizer='Adam', metrics=['accuracy'])\n",
        "training = mymodel.fit(X_train, y_train, epochs=100, batch_size=32, validation_split=0.2, verbose=0)\n",
        "val_acc = np.mean(training.history['val_accuracy'])\n",
        "print(\"\\n%s: %.2f%%\" % ('val_acc', val_acc*100))\n",
        "# summarize history for accuracy\n",
        "plt.plot(training.history['val_accuracy'])\n",
        "plt.plot(training.history['accuracy'])\n",
        "plt.title('model accuracy')\n",
        "plt.ylabel('accuracy')\n",
        "plt.xlabel('epoch')\n",
        "plt.legend(['train', 'validation'], loc='upper left')\n",
        "plt.show()"
      ],
      "execution_count": null,
      "outputs": [
        {
          "output_type": "stream",
          "text": [
            "\n",
            "val_acc: 83.74%\n"
          ],
          "name": "stdout"
        },
        {
          "output_type": "display_data",
          "data": {
            "image/png": "[encoded data removed]",
            "text/plain": [
              "<Figure size 432x288 with 1 Axes>"
            ]
          },
          "metadata": {
            "tags": [],
            "needs_background": "light"
          }
        }
      ]
    },
    {
      "cell_type": "code",
      "metadata": {
        "id": "mYGY3GjnSbXw"
      },
      "source": [
        "# change batch size and epochs"
      ],
      "execution_count": null,
      "outputs": []
    },
    {
      "cell_type": "code",
      "metadata": {
        "id": "Wiip1q4QSbXy"
      },
      "source": [
        "mymodel.compile(loss='binary_crossentropy', optimizer='Adam', metrics=['accuracy'])\n",
        "training = mymodel.fit(X_train, y_train, epochs=100, batch_size=16, validation_split=0.2, verbose=0)\n",
        "val_acc = np.mean(training.history['val_accuracy'])\n",
        "print(\"\\n%s: %.2f%%\" % ('val_acc', val_acc*100))\n",
        "# summarize history for accuracy\n",
        "plt.plot(training.history['val_accuracy'])\n",
        "plt.plot(training.history['accuracy'])\n",
        "plt.title('model accuracy')\n",
        "plt.ylabel('accuracy')\n",
        "plt.xlabel('epoch')\n",
        "plt.legend(['train', 'validation'], loc='upper left')\n",
        "plt.show()"
      ],
      "execution_count": null,
      "outputs": []
    },
    {
      "cell_type": "code",
      "metadata": {
        "id": "z-d_CRYISbXz",
        "outputId": "c92c16e6-2f85-49bf-c872-6567f7b75f85"
      },
      "source": [
        "mymodel.compile(loss='binary_crossentropy', optimizer='Adam', metrics=['accuracy'])\n",
        "training = mymodel.fit(X_train, y_train, epochs=100, batch_size=16, validation_split=0.2, verbose=0)\n",
        "val_acc = np.mean(training.history['val_accuracy'])\n",
        "print(\"\\n%s: %.2f%%\" % ('val_acc', val_acc*100))\n",
        "# summarize history for accuracy\n",
        "plt.plot(training.history['val_accuracy'])\n",
        "plt.plot(training.history['accuracy'])\n",
        "plt.title('model accuracy')\n",
        "plt.ylabel('accuracy')\n",
        "plt.xlabel('epoch')\n",
        "plt.legend(['train', 'validation'], loc='upper left')\n",
        "plt.show()"
      ],
      "execution_count": null,
      "outputs": [
        {
          "output_type": "stream",
          "text": [
            "\n",
            "val_acc: 88.26%\n"
          ],
          "name": "stdout"
        },
        {
          "output_type": "display_data",
          "data": {
            "image/png": "[encoded data removed]",
            "text/plain": [
              "<Figure size 432x288 with 1 Axes>"
            ]
          },
          "metadata": {
            "tags": [],
            "needs_background": "light"
          }
        }
      ]
    },
    {
      "cell_type": "markdown",
      "metadata": {
        "id": "rmvkZ6MASbX0"
      },
      "source": [
        "To improve the model, apply Dropout with 20%"
      ]
    },
    {
      "cell_type": "code",
      "metadata": {
        "id": "zs9L2izMSbX1"
      },
      "source": [
        "mymodel = Sequential()\n",
        "    \n",
        "    # create first hidden layer\n",
        "mymodel.add(Dense(1, input_dim=X_train.shape[1], activation='linear'))\n",
        "\n",
        "mymodel.add(Dense(10, activation='linear'))\n",
        "mymodel.add(Dense(10, activation='linear'))\n",
        "mymodel.add(Dense(10, activation='linear')) # the third layer (added) (New)\n",
        "\n",
        "# add dropout, default is none\n",
        "mymodel.add(Dropout(0.2))\n",
        "    \n",
        "mymodel.add(Dense(1, activation='sigmoid'))  # output layer"
      ],
      "execution_count": null,
      "outputs": []
    },
    {
      "cell_type": "code",
      "metadata": {
        "id": "2B4wKgEiSbX2"
      },
      "source": [
        "mymodel.compile(loss='binary_crossentropy', optimizer='Adam', metrics=['accuracy'])\n",
        "training = mymodel.fit(X_train, y_train, epochs=200, batch_size=16, validation_split=0.2, verbose=0)\n",
        "val_acc = np.mean(training.history['val_accuracy'])\n",
        "print(\"\\n%s: %.2f%%\" % ('val_acc', val_acc*100))\n",
        "# summarize history for accuracy\n",
        "plt.plot(training.history['val_accuracy'])\n",
        "plt.plot(training.history['accuracy'])\n",
        "plt.title('model accuracy')\n",
        "plt.ylabel('accuracy')\n",
        "plt.xlabel('epoch')\n",
        "plt.legend(['train', 'validation'], loc='upper left')\n",
        "plt.show()"
      ],
      "execution_count": null,
      "outputs": []
    },
    {
      "cell_type": "markdown",
      "metadata": {
        "id": "pGPLl0z3SbX4"
      },
      "source": [
        "***********************************************************\n",
        "Find the best model"
      ]
    },
    {
      "cell_type": "markdown",
      "metadata": {
        "_cell_guid": "bc50ae8f-a1d7-48b6-9771-e50b4e8e169b",
        "_uuid": "bbead52ea8dd6e9cba5da969375c7829a34b87d4",
        "id": "YVKarc0zSbX4"
      },
      "source": [
        "## 3.1. Cross-validation\n",
        "Keras allows us to make use of cross-validation for training our model. So we will use this to train and assess our first model."
      ]
    },
    {
      "cell_type": "markdown",
      "metadata": {
        "_cell_guid": "edcc8edb-a50b-4ec3-9958-06c081fbcd68",
        "_uuid": "75f56351057f33dcee93e207c4b3c461fcb65fae",
        "id": "qZ3ufRFASbX4"
      },
      "source": [
        "### Create neural network model\n",
        "For this task, I have kept the model architecture pretty simple. We have one input layer with 17 nodes which feeds into a hidden layer with 8 nodes and an output layer which is used to predict a passenger's survival.   \n",
        "\n",
        "The output layer has a sigmoid activation function, which is used to 'squash' all our outputs to be between 0 and 1.   \n",
        "\n",
        "We are going to create a function which allows to parameterise the choice of hyperparameters in the neural network. This might seem a little overly complicated now, but it will come in super handy when we move onto tuning our parameters later."
      ]
    },
    {
      "cell_type": "code",
      "metadata": {
        "_uuid": "7b320adc3b344552853708b033e677a4b2cca3f7",
        "id": "lv1J8_uvSbX4"
      },
      "source": [
        "def create_model(lyrs=[8], act='linear', opt='Adam', dr=0.0):\n",
        "    \n",
        "    # set random seed for reproducibility\n",
        "    seed(42)\n",
        "  # set_random_seed(42)\n",
        "    tensorflow.random.set_seed(42)\n",
        "    model = Sequential()\n",
        "    \n",
        "    # create first hidden layer\n",
        "    model.add(Dense(lyrs[0], input_dim=X_train.shape[1], activation=act))\n",
        "    \n",
        "    # create additional hidden layers\n",
        "    for i in range(1,len(lyrs)):\n",
        "        model.add(Dense(lyrs[i], activation=act))\n",
        "    \n",
        "    # add dropout, default is none\n",
        "    model.add(Dropout(dr))\n",
        "    \n",
        "    # create output layer\n",
        "    model.add(Dense(1, activation='sigmoid'))  # output layer\n",
        "    \n",
        "    model.compile(loss='binary_crossentropy', optimizer=opt, metrics=['accuracy'])\n",
        "    \n",
        "    return model"
      ],
      "execution_count": null,
      "outputs": []
    },
    {
      "cell_type": "code",
      "metadata": {
        "id": "iAdTruCySbX8"
      },
      "source": [
        ""
      ],
      "execution_count": null,
      "outputs": []
    },
    {
      "cell_type": "code",
      "metadata": {
        "_uuid": "7f044d493a62e15bfb1e06a7f792ab53a3df7a0a",
        "id": "JF06ScYNSbX_",
        "outputId": "2ef862be-3211-471f-82e1-ff282c3aace5"
      },
      "source": [
        "model = create_model()\n",
        "\n",
        "print(model.summary())"
      ],
      "execution_count": null,
      "outputs": [
        {
          "output_type": "stream",
          "text": [
            "Model: \"sequential_5\"\n",
            "_________________________________________________________________\n",
            "Layer (type)                 Output Shape              Param #   \n",
            "=================================================================\n",
            "dense_17 (Dense)             (None, 8)                 136       \n",
            "_________________________________________________________________\n",
            "dropout_2 (Dropout)          (None, 8)                 0         \n",
            "_________________________________________________________________\n",
            "dense_18 (Dense)             (None, 1)                 9         \n",
            "=================================================================\n",
            "Total params: 145\n",
            "Trainable params: 145\n",
            "Non-trainable params: 0\n",
            "_________________________________________________________________\n",
            "None\n"
          ],
          "name": "stdout"
        }
      ]
    },
    {
      "cell_type": "markdown",
      "metadata": {
        "_cell_guid": "34a52736-364d-4f77-87c1-b432a8cc6834",
        "_uuid": "1d96485d799ad3e3850dfc5656680dec1b62ae95",
        "id": "1JApwyVSSbYB"
      },
      "source": [
        "### Train model\n",
        "At this stage, we have our model. We have chosen a few hyperparameters such as the number of hidden layers, the number of neurons and the activation function.\n",
        "\n",
        "The next step is to train the model on our training set. This step also requires us to choose a few more hyperparameters such as the loss function, the optimization algorithm, the number of epochs and the batch size."
      ]
    },
    {
      "cell_type": "code",
      "metadata": {
        "_uuid": "8b7b5329d5fb74520ea54ce7ebb6f77bcc1f698c",
        "scrolled": false,
        "id": "jq0YhpsLSbYC",
        "outputId": "ca3a2afb-d192-4d95-9807-954dc05fe599"
      },
      "source": [
        "# train model on full train set, with 80/20 CV split\n",
        "training = model.fit(X_train, y_train, epochs=100, batch_size=32, validation_split=0.2, verbose=0)\n",
        "val_acc = np.mean(training.history['val_accuracy'])\n",
        "print(\"\\n%s: %.2f%%\" % ('val_acc', val_acc*100))"
      ],
      "execution_count": null,
      "outputs": [
        {
          "output_type": "stream",
          "text": [
            "\n",
            "val_acc: 86.53%\n"
          ],
          "name": "stdout"
        }
      ]
    },
    {
      "cell_type": "code",
      "metadata": {
        "id": "Vg3ypUTRSbYE"
      },
      "source": [
        "#training.history"
      ],
      "execution_count": null,
      "outputs": []
    },
    {
      "cell_type": "markdown",
      "metadata": {
        "_uuid": "e32fca56ce00a0b1ad97cd65a8a9151fcc89470d",
        "id": "Oc5U0ojeSbYF"
      },
      "source": [
        "### Assess results"
      ]
    },
    {
      "cell_type": "code",
      "metadata": {
        "_uuid": "649c26f2052b5c40e387eaaf985cd894ba0d98b4",
        "id": "1GX2uzW7SbYG",
        "outputId": "89aee4cb-2161-4de4-c037-b89f5d45ddae"
      },
      "source": [
        "# summarize history for accuracy\n",
        "plt.plot(training.history['val_accuracy'])\n",
        "plt.plot(training.history['accuracy'])\n",
        "plt.title('model accuracy')\n",
        "plt.ylabel('accuracy')\n",
        "plt.xlabel('epoch')\n",
        "plt.legend(['train', 'validation'], loc='upper left')\n",
        "plt.show()"
      ],
      "execution_count": null,
      "outputs": [
        {
          "output_type": "display_data",
          "data": {
            "image/png": "[encoded data removed]",
            "text/plain": [
              "<Figure size 432x288 with 1 Axes>"
            ]
          },
          "metadata": {
            "tags": [],
            "needs_background": "light"
          }
        }
      ]
    },
    {
      "cell_type": "markdown",
      "metadata": {
        "_uuid": "eabfa8a3dbb1dd061e642e8263bcf98feae6e65e",
        "id": "fe4CMWiKSbYH"
      },
      "source": [
        "## 3.2. Grid search\n",
        "### 3.2.1. batch size and epochs\n",
        "We can see from the graph above that we might be training our network for too long. Let's use **grid search** to find out what the optimal values for `batch_size` and `epochs` are."
      ]
    },
    {
      "cell_type": "code",
      "metadata": {
        "_uuid": "aee8c8a76611d4e075179b2191b4da5324c472bd",
        "id": "sY8CnKdWSbYH",
        "outputId": "2bfb44cf-98a3-4c91-820a-3d5f49c0048d"
      },
      "source": [
        "# create model\n",
        "model = KerasClassifier(build_fn=create_model, verbose=0)\n",
        "\n",
        "# define the grid search parameters\n",
        "batch_size = [16, 32, 64]\n",
        "epochs = [50, 100]\n",
        "param_grid = dict(batch_size=batch_size, epochs=epochs)\n",
        "\n",
        "# search the grid\n",
        "grid = GridSearchCV(estimator=model, \n",
        "                    param_grid=param_grid,\n",
        "                    cv=3,\n",
        "                    verbose=2)  # include n_jobs=-1 if you are using CPU\n",
        "\n",
        "grid_result = grid.fit(X_train, y_train)"
      ],
      "execution_count": null,
      "outputs": [
        {
          "output_type": "stream",
          "text": [
            "Fitting 3 folds for each of 6 candidates, totalling 18 fits\n",
            "[CV] batch_size=16, epochs=50 ........................................\n"
          ],
          "name": "stdout"
        },
        {
          "output_type": "stream",
          "text": [
            "[Parallel(n_jobs=1)]: Using backend SequentialBackend with 1 concurrent workers.\n"
          ],
          "name": "stderr"
        },
        {
          "output_type": "stream",
          "text": [
            "[CV] ......................... batch_size=16, epochs=50, total=   3.9s\n",
            "[CV] batch_size=16, epochs=50 ........................................\n"
          ],
          "name": "stdout"
        },
        {
          "output_type": "stream",
          "text": [
            "[Parallel(n_jobs=1)]: Done   1 out of   1 | elapsed:    3.8s remaining:    0.0s\n"
          ],
          "name": "stderr"
        },
        {
          "output_type": "stream",
          "text": [
            "[CV] ......................... batch_size=16, epochs=50, total=   3.8s\n",
            "[CV] batch_size=16, epochs=50 ........................................\n",
            "[CV] ......................... batch_size=16, epochs=50, total=   4.0s\n",
            "[CV] batch_size=16, epochs=100 .......................................\n",
            "[CV] ........................ batch_size=16, epochs=100, total=   6.8s\n",
            "[CV] batch_size=16, epochs=100 .......................................\n",
            "[CV] ........................ batch_size=16, epochs=100, total=   7.1s\n",
            "[CV] batch_size=16, epochs=100 .......................................\n",
            "[CV] ........................ batch_size=16, epochs=100, total=   6.7s\n",
            "[CV] batch_size=32, epochs=50 ........................................\n",
            "[CV] ......................... batch_size=32, epochs=50, total=   2.4s\n",
            "[CV] batch_size=32, epochs=50 ........................................\n",
            "[CV] ......................... batch_size=32, epochs=50, total=   2.3s\n",
            "[CV] batch_size=32, epochs=50 ........................................\n",
            "[CV] ......................... batch_size=32, epochs=50, total=   2.4s\n",
            "[CV] batch_size=32, epochs=100 .......................................\n",
            "[CV] ........................ batch_size=32, epochs=100, total=   3.9s\n",
            "[CV] batch_size=32, epochs=100 .......................................\n",
            "[CV] ........................ batch_size=32, epochs=100, total=   3.9s\n",
            "[CV] batch_size=32, epochs=100 .......................................\n",
            "[CV] ........................ batch_size=32, epochs=100, total=   3.9s\n",
            "[CV] batch_size=64, epochs=50 ........................................\n",
            "[CV] ......................... batch_size=64, epochs=50, total=   1.7s\n",
            "[CV] batch_size=64, epochs=50 ........................................\n",
            "[CV] ......................... batch_size=64, epochs=50, total=   1.9s\n",
            "[CV] batch_size=64, epochs=50 ........................................\n",
            "[CV] ......................... batch_size=64, epochs=50, total=   1.7s\n",
            "[CV] batch_size=64, epochs=100 .......................................\n",
            "[CV] ........................ batch_size=64, epochs=100, total=   2.5s\n",
            "[CV] batch_size=64, epochs=100 .......................................\n",
            "[CV] ........................ batch_size=64, epochs=100, total=   2.6s\n",
            "[CV] batch_size=64, epochs=100 .......................................\n",
            "[CV] ........................ batch_size=64, epochs=100, total=   2.6s\n"
          ],
          "name": "stdout"
        },
        {
          "output_type": "stream",
          "text": [
            "[Parallel(n_jobs=1)]: Done  18 out of  18 | elapsed:  1.1min finished\n"
          ],
          "name": "stderr"
        }
      ]
    },
    {
      "cell_type": "code",
      "metadata": {
        "_uuid": "aee8c8a76611d4e075179b2191b4da5324c472bd",
        "scrolled": true,
        "id": "KEexEwZdSbYJ",
        "outputId": "5c14dab4-5acd-4b86-ba1b-b34d747c8550"
      },
      "source": [
        "# summarize results\n",
        "print(\"Best: %f using %s\" % (grid_result.best_score_, grid_result.best_params_))\n",
        "means = grid_result.cv_results_['mean_test_score']\n",
        "stds = grid_result.cv_results_['std_test_score']\n",
        "params = grid_result.cv_results_['params']\n",
        "for mean, stdev, param in zip(means, stds, params):\n",
        "    print(\"%f (%f) with: %r\" % (mean, stdev, param))"
      ],
      "execution_count": null,
      "outputs": [
        {
          "output_type": "stream",
          "text": [
            "Best: 0.822671 using {'batch_size': 32, 'epochs': 50}\n",
            "0.817059 (0.012992) with: {'batch_size': 16, 'epochs': 50}\n",
            "0.814815 (0.014547) with: {'batch_size': 16, 'epochs': 100}\n",
            "0.822671 (0.008837) with: {'batch_size': 32, 'epochs': 50}\n",
            "0.813692 (0.018305) with: {'batch_size': 32, 'epochs': 100}\n",
            "0.818182 (0.015307) with: {'batch_size': 64, 'epochs': 50}\n",
            "0.814815 (0.014547) with: {'batch_size': 64, 'epochs': 100}\n"
          ],
          "name": "stdout"
        }
      ]
    },
    {
      "cell_type": "markdown",
      "metadata": {
        "_uuid": "186635a5b21616833ab080a6d311d20345845acc",
        "id": "mHHEqqWuSbYL"
      },
      "source": [
        "### 3.2.2. Optimization Algorithm"
      ]
    },
    {
      "cell_type": "code",
      "metadata": {
        "_uuid": "d6cafd5c7f3ccb0a2b1fa95b8f77ebd5c8ad664e",
        "id": "zVrMlqKKSbYL",
        "outputId": "42230889-153e-4405-e92c-f60378b34292"
      },
      "source": [
        "# create model\n",
        "model = KerasClassifier(build_fn=create_model, epochs=50, batch_size=32, verbose=0)\n",
        "\n",
        "# define the grid search parameters\n",
        "optimizer = ['SGD', 'RMSprop', 'Adagrad', 'Adadelta', 'Adam', 'Nadam']\n",
        "param_grid = dict(opt=optimizer)\n",
        "\n",
        "# search the grid\n",
        "grid = GridSearchCV(estimator=model, param_grid=param_grid, verbose=2)\n",
        "grid_result = grid.fit(X_train, y_train)"
      ],
      "execution_count": null,
      "outputs": [
        {
          "output_type": "stream",
          "text": [
            "C:\\Users\\amirhossein.sadoghi\\AppData\\Local\\Continuum\\anaconda3\\lib\\site-packages\\sklearn\\model_selection\\_split.py:1978: FutureWarning: The default value of cv will change from 3 to 5 in version 0.22. Specify it explicitly to silence this warning.\n",
            "  warnings.warn(CV_WARNING, FutureWarning)\n",
            "[Parallel(n_jobs=1)]: Using backend SequentialBackend with 1 concurrent workers.\n"
          ],
          "name": "stderr"
        },
        {
          "output_type": "stream",
          "text": [
            "Fitting 3 folds for each of 6 candidates, totalling 18 fits\n",
            "[CV] opt=SGD .........................................................\n",
            "[CV] .......................................... opt=SGD, total=   1.9s\n",
            "[CV] opt=SGD .........................................................\n"
          ],
          "name": "stdout"
        },
        {
          "output_type": "stream",
          "text": [
            "[Parallel(n_jobs=1)]: Done   1 out of   1 | elapsed:    1.8s remaining:    0.0s\n"
          ],
          "name": "stderr"
        },
        {
          "output_type": "stream",
          "text": [
            "[CV] .......................................... opt=SGD, total=   2.0s\n",
            "[CV] opt=SGD .........................................................\n",
            "[CV] .......................................... opt=SGD, total=   1.9s\n",
            "[CV] opt=RMSprop .....................................................\n",
            "[CV] ...................................... opt=RMSprop, total=   2.1s\n",
            "[CV] opt=RMSprop .....................................................\n",
            "[CV] ...................................... opt=RMSprop, total=   2.1s\n",
            "[CV] opt=RMSprop .....................................................\n",
            "[CV] ...................................... opt=RMSprop, total=   2.2s\n",
            "[CV] opt=Adagrad .....................................................\n",
            "[CV] ...................................... opt=Adagrad, total=   2.3s\n",
            "[CV] opt=Adagrad .....................................................\n",
            "[CV] ...................................... opt=Adagrad, total=   2.1s\n",
            "[CV] opt=Adagrad .....................................................\n",
            "[CV] ...................................... opt=Adagrad, total=   2.1s\n",
            "[CV] opt=Adadelta ....................................................\n",
            "[CV] ..................................... opt=Adadelta, total=   2.4s\n",
            "[CV] opt=Adadelta ....................................................\n",
            "[CV] ..................................... opt=Adadelta, total=   2.4s\n",
            "[CV] opt=Adadelta ....................................................\n",
            "[CV] ..................................... opt=Adadelta, total=   2.4s\n",
            "[CV] opt=Adam ........................................................\n",
            "[CV] ......................................... opt=Adam, total=   2.5s\n",
            "[CV] opt=Adam ........................................................\n",
            "[CV] ......................................... opt=Adam, total=   2.4s\n",
            "[CV] opt=Adam ........................................................\n",
            "[CV] ......................................... opt=Adam, total=   2.3s\n",
            "[CV] opt=Nadam .......................................................\n",
            "[CV] ........................................ opt=Nadam, total=   2.7s\n",
            "[CV] opt=Nadam .......................................................\n",
            "[CV] ........................................ opt=Nadam, total=   2.7s\n",
            "[CV] opt=Nadam .......................................................\n",
            "[CV] ........................................ opt=Nadam, total=   2.6s\n"
          ],
          "name": "stdout"
        },
        {
          "output_type": "stream",
          "text": [
            "[Parallel(n_jobs=1)]: Done  18 out of  18 | elapsed:   41.1s finished\n"
          ],
          "name": "stderr"
        }
      ]
    },
    {
      "cell_type": "code",
      "metadata": {
        "_uuid": "78ab745d56a5422ddfffa5ee525738f191ef4f28",
        "id": "Owc91WhjSbYM",
        "outputId": "07c17798-b496-471f-fd82-131dec612241"
      },
      "source": [
        "# summarize results\n",
        "print(\"Best: %f using %s\" % (grid_result.best_score_, grid_result.best_params_))\n",
        "means = grid_result.cv_results_['mean_test_score']\n",
        "stds = grid_result.cv_results_['std_test_score']\n",
        "params = grid_result.cv_results_['params']\n",
        "for mean, stdev, param in zip(means, stds, params):\n",
        "    print(\"%f (%f) with: %r\" % (mean, stdev, param))"
      ],
      "execution_count": null,
      "outputs": [
        {
          "output_type": "stream",
          "text": [
            "Best: 0.822671 using {'opt': 'Adam'}\n",
            "0.810325 (0.020997) with: {'opt': 'SGD'}\n",
            "0.820426 (0.010408) with: {'opt': 'RMSprop'}\n",
            "0.814815 (0.015307) with: {'opt': 'Adagrad'}\n",
            "0.821549 (0.011983) with: {'opt': 'Adadelta'}\n",
            "0.822671 (0.008837) with: {'opt': 'Adam'}\n",
            "0.815937 (0.014108) with: {'opt': 'Nadam'}\n"
          ],
          "name": "stdout"
        }
      ]
    },
    {
      "cell_type": "markdown",
      "metadata": {
        "_uuid": "abe56e7632bdd2d6ee8da250ae0b3333481a989e",
        "id": "CmbPQj0JSbYP"
      },
      "source": [
        "### 3.2.3. Hidden neurons"
      ]
    },
    {
      "cell_type": "code",
      "metadata": {
        "_uuid": "0c0261b56338bbf5ec508fdee4628e243098c2c9",
        "scrolled": true,
        "id": "mo-m0bWaSbYP",
        "outputId": "4ca917c3-4354-48c0-9464-8d27f213ae94"
      },
      "source": [
        "#seed(42)\n",
        "#set_random_seed(42)\n",
        "\n",
        "# create model\n",
        "model = KerasClassifier(build_fn=create_model, \n",
        "                        epochs=50, batch_size=32, verbose=0)\n",
        "\n",
        "# define the grid search parameters\n",
        "layers = [[8],[10],[10,5],[12,6],[12,8,4]]\n",
        "param_grid = dict(lyrs=layers)\n",
        "\n",
        "# search the grid\n",
        "grid = GridSearchCV(estimator=model, param_grid=param_grid, verbose=2)\n",
        "grid_result = grid.fit(X_train, y_train)"
      ],
      "execution_count": null,
      "outputs": [
        {
          "output_type": "stream",
          "text": [
            "Fitting 3 folds for each of 5 candidates, totalling 15 fits\n",
            "[CV] lyrs=[8] ........................................................\n"
          ],
          "name": "stdout"
        },
        {
          "output_type": "stream",
          "text": [
            "[Parallel(n_jobs=1)]: Using backend SequentialBackend with 1 concurrent workers.\n"
          ],
          "name": "stderr"
        },
        {
          "output_type": "stream",
          "text": [
            "[CV] ......................................... lyrs=[8], total=   2.2s\n",
            "[CV] lyrs=[8] ........................................................\n"
          ],
          "name": "stdout"
        },
        {
          "output_type": "stream",
          "text": [
            "[Parallel(n_jobs=1)]: Done   1 out of   1 | elapsed:    2.1s remaining:    0.0s\n"
          ],
          "name": "stderr"
        },
        {
          "output_type": "stream",
          "text": [
            "[CV] ......................................... lyrs=[8], total=   2.4s\n",
            "[CV] lyrs=[8] ........................................................\n",
            "[CV] ......................................... lyrs=[8], total=   2.4s\n",
            "[CV] lyrs=[10] .......................................................\n",
            "[CV] ........................................ lyrs=[10], total=   2.4s\n",
            "[CV] lyrs=[10] .......................................................\n",
            "[CV] ........................................ lyrs=[10], total=   2.5s\n",
            "[CV] lyrs=[10] .......................................................\n",
            "[CV] ........................................ lyrs=[10], total=   2.4s\n",
            "[CV] lyrs=[10, 5] ....................................................\n",
            "[CV] ..................................... lyrs=[10, 5], total=   2.7s\n",
            "[CV] lyrs=[10, 5] ....................................................\n",
            "[CV] ..................................... lyrs=[10, 5], total=   2.8s\n",
            "[CV] lyrs=[10, 5] ....................................................\n",
            "[CV] ..................................... lyrs=[10, 5], total=   2.7s\n",
            "[CV] lyrs=[12, 6] ....................................................\n",
            "[CV] ..................................... lyrs=[12, 6], total=   2.7s\n",
            "[CV] lyrs=[12, 6] ....................................................\n",
            "[CV] ..................................... lyrs=[12, 6], total=   2.8s\n",
            "[CV] lyrs=[12, 6] ....................................................\n",
            "[CV] ..................................... lyrs=[12, 6], total=   3.0s\n",
            "[CV] lyrs=[12, 8, 4] .................................................\n",
            "[CV] .................................. lyrs=[12, 8, 4], total=   3.0s\n",
            "[CV] lyrs=[12, 8, 4] .................................................\n",
            "[CV] .................................. lyrs=[12, 8, 4], total=   3.0s\n",
            "[CV] lyrs=[12, 8, 4] .................................................\n",
            "[CV] .................................. lyrs=[12, 8, 4], total=   3.0s\n"
          ],
          "name": "stdout"
        },
        {
          "output_type": "stream",
          "text": [
            "[Parallel(n_jobs=1)]: Done  15 out of  15 | elapsed:   39.7s finished\n"
          ],
          "name": "stderr"
        }
      ]
    },
    {
      "cell_type": "code",
      "metadata": {
        "_uuid": "78ab745d56a5422ddfffa5ee525738f191ef4f28",
        "id": "ml0B8agFSbYQ",
        "outputId": "0e3649ed-e1ea-4422-ec44-6fcf83fa81f7"
      },
      "source": [
        "# summarize results\n",
        "print(\"Best: %f using %s\" % (grid_result.best_score_, grid_result.best_params_))\n",
        "means = grid_result.cv_results_['mean_test_score']\n",
        "stds = grid_result.cv_results_['std_test_score']\n",
        "params = grid_result.cv_results_['params']\n",
        "for mean, stdev, param in zip(means, stds, params):\n",
        "    print(\"%f (%f) with: %r\" % (mean, stdev, param))"
      ],
      "execution_count": null,
      "outputs": [
        {
          "output_type": "stream",
          "text": [
            "Best: 0.822671 using {'lyrs': [8]}\n",
            "0.822671 (0.008837) with: {'lyrs': [8]}\n",
            "0.822671 (0.008837) with: {'lyrs': [10]}\n",
            "0.820426 (0.015141) with: {'lyrs': [10, 5]}\n",
            "0.822671 (0.013561) with: {'lyrs': [12, 6]}\n",
            "0.818182 (0.016722) with: {'lyrs': [12, 8, 4]}\n"
          ],
          "name": "stdout"
        }
      ]
    },
    {
      "cell_type": "markdown",
      "metadata": {
        "_uuid": "7b629c59eebd4242e919c935c550fe4240317e9a",
        "id": "8qBGfb_kSbYT"
      },
      "source": [
        "### 3.2.4. Dropout"
      ]
    },
    {
      "cell_type": "code",
      "metadata": {
        "_uuid": "0c0261b56338bbf5ec508fdee4628e243098c2c9",
        "scrolled": true,
        "id": "ZSZ4ibciSbYT",
        "outputId": "81b74df1-8672-45ce-d029-4fa38b733c2e"
      },
      "source": [
        "# create model\n",
        "model = KerasClassifier(build_fn=create_model, \n",
        "                        epochs=50, batch_size=32, verbose=0)\n",
        "\n",
        "# define the grid search parameters\n",
        "drops = [0.0, 0.01, 0.05, 0.1, 0.2, 0.5]\n",
        "param_grid = dict(dr=drops)\n",
        "grid = GridSearchCV(estimator=model, param_grid=param_grid, verbose=2)\n",
        "grid_result = grid.fit(X_train, y_train)"
      ],
      "execution_count": null,
      "outputs": [
        {
          "output_type": "stream",
          "text": [
            "Fitting 3 folds for each of 6 candidates, totalling 18 fits\n",
            "[CV] dr=0.0 ..........................................................\n"
          ],
          "name": "stdout"
        },
        {
          "output_type": "stream",
          "text": [
            "[Parallel(n_jobs=1)]: Using backend SequentialBackend with 1 concurrent workers.\n"
          ],
          "name": "stderr"
        },
        {
          "output_type": "stream",
          "text": [
            "[CV] ........................................... dr=0.0, total=   2.6s\n",
            "[CV] dr=0.0 ..........................................................\n"
          ],
          "name": "stdout"
        },
        {
          "output_type": "stream",
          "text": [
            "[Parallel(n_jobs=1)]: Done   1 out of   1 | elapsed:    2.5s remaining:    0.0s\n"
          ],
          "name": "stderr"
        },
        {
          "output_type": "stream",
          "text": [
            "[CV] ........................................... dr=0.0, total=   2.4s\n",
            "[CV] dr=0.0 ..........................................................\n",
            "[CV] ........................................... dr=0.0, total=   2.4s\n",
            "[CV] dr=0.01 .........................................................\n",
            "[CV] .......................................... dr=0.01, total=   2.6s\n",
            "[CV] dr=0.01 .........................................................\n",
            "[CV] .......................................... dr=0.01, total=   2.6s\n",
            "[CV] dr=0.01 .........................................................\n",
            "[CV] .......................................... dr=0.01, total=   2.6s\n",
            "[CV] dr=0.05 .........................................................\n",
            "[CV] .......................................... dr=0.05, total=   3.0s\n",
            "[CV] dr=0.05 .........................................................\n",
            "[CV] .......................................... dr=0.05, total=   2.7s\n",
            "[CV] dr=0.05 .........................................................\n",
            "[CV] .......................................... dr=0.05, total=   2.7s\n",
            "[CV] dr=0.1 ..........................................................\n",
            "[CV] ........................................... dr=0.1, total=   2.7s\n",
            "[CV] dr=0.1 ..........................................................\n",
            "[CV] ........................................... dr=0.1, total=   2.7s\n",
            "[CV] dr=0.1 ..........................................................\n",
            "[CV] ........................................... dr=0.1, total=   2.8s\n",
            "[CV] dr=0.2 ..........................................................\n",
            "[CV] ........................................... dr=0.2, total=   2.7s\n",
            "[CV] dr=0.2 ..........................................................\n",
            "[CV] ........................................... dr=0.2, total=   2.7s\n",
            "[CV] dr=0.2 ..........................................................\n",
            "[CV] ........................................... dr=0.2, total=   2.7s\n",
            "[CV] dr=0.5 ..........................................................\n",
            "[CV] ........................................... dr=0.5, total=   2.7s\n",
            "[CV] dr=0.5 ..........................................................\n",
            "[CV] ........................................... dr=0.5, total=   2.7s\n",
            "[CV] dr=0.5 ..........................................................\n",
            "[CV] ........................................... dr=0.5, total=   2.7s\n"
          ],
          "name": "stdout"
        },
        {
          "output_type": "stream",
          "text": [
            "[Parallel(n_jobs=1)]: Done  18 out of  18 | elapsed:   48.2s finished\n"
          ],
          "name": "stderr"
        }
      ]
    },
    {
      "cell_type": "code",
      "metadata": {
        "_uuid": "8001b384e19fc963a3936b10b5be571af1c06b2e",
        "id": "GW_RXm66SbYV",
        "outputId": "17979fa0-9036-49ef-c295-04a33ad64587"
      },
      "source": [
        "# summarize results\n",
        "print(\"Best: %f using %s\" % (grid_result.best_score_, grid_result.best_params_))\n",
        "means = grid_result.cv_results_['mean_test_score']\n",
        "stds = grid_result.cv_results_['std_test_score']\n",
        "params = grid_result.cv_results_['params']\n",
        "for mean, stdev, param in zip(means, stds, params):\n",
        "    print(\"%f (%f) with: %r\" % (mean, stdev, param))"
      ],
      "execution_count": null,
      "outputs": [
        {
          "output_type": "stream",
          "text": [
            "Best: 0.824916 using {'dr': 0.2}\n",
            "0.822671 (0.008837) with: {'dr': 0.0}\n",
            "0.822671 (0.014108) with: {'dr': 0.01}\n",
            "0.823793 (0.015632) with: {'dr': 0.05}\n",
            "0.823793 (0.015632) with: {'dr': 0.1}\n",
            "0.824916 (0.017168) with: {'dr': 0.2}\n",
            "0.819304 (0.018305) with: {'dr': 0.5}\n"
          ],
          "name": "stdout"
        }
      ]
    },
    {
      "cell_type": "code",
      "metadata": {
        "_uuid": "9383e7b646491d4333ff1ccb27c785b794dbc323",
        "id": "Qp_IjiaVSbYW",
        "outputId": "8f115b7a-0f76-430b-9551-78a4998c325a"
      },
      "source": [
        "# create final model\n",
        "model = create_model(lyrs=[8], dr=0.2)\n",
        "\n",
        "print(model.summary())"
      ],
      "execution_count": null,
      "outputs": [
        {
          "output_type": "stream",
          "text": [
            "Model: \"sequential_79\"\n",
            "_________________________________________________________________\n",
            "Layer (type)                 Output Shape              Param #   \n",
            "=================================================================\n",
            "dense_177 (Dense)            (None, 8)                 136       \n",
            "_________________________________________________________________\n",
            "dropout_76 (Dropout)         (None, 8)                 0         \n",
            "_________________________________________________________________\n",
            "dense_178 (Dense)            (None, 1)                 9         \n",
            "=================================================================\n",
            "Total params: 145\n",
            "Trainable params: 145\n",
            "Non-trainable params: 0\n",
            "_________________________________________________________________\n",
            "None\n"
          ],
          "name": "stdout"
        }
      ]
    },
    {
      "cell_type": "code",
      "metadata": {
        "_uuid": "b26ec6f0d56e5c48a46f16bdf230ae0483a2d21f",
        "id": "4g0vw_kHSbYX",
        "outputId": "7d39a9cd-96c1-4efa-ad41-53635bf96b89"
      },
      "source": [
        "# train model on full train set, with 80/20 CV split\n",
        "training = model.fit(X_train, y_train, epochs=50, batch_size=32, \n",
        "                     validation_split=0.2, verbose=0)\n",
        "\n",
        "# evaluate the model\n",
        "scores = model.evaluate(X_train, y_train)\n",
        "print(\"\\n%s: %.2f%%\" % (model.metrics_names[1], scores[1]*100))"
      ],
      "execution_count": null,
      "outputs": [
        {
          "output_type": "stream",
          "text": [
            "891/891 [==============================] - 0s 22us/step\n",
            "\n",
            "accuracy: 83.16%\n"
          ],
          "name": "stdout"
        }
      ]
    },
    {
      "cell_type": "code",
      "metadata": {
        "id": "_reVLHaJSbYZ"
      },
      "source": [
        "#training.history"
      ],
      "execution_count": null,
      "outputs": []
    },
    {
      "cell_type": "code",
      "metadata": {
        "_uuid": "4515e41b912a66d382a23708137d1e7086dfdd66",
        "id": "Tp3Yx_OLSbYa",
        "outputId": "ef803ada-ab49-41a4-b79d-6a98bfa37386"
      },
      "source": [
        "# summarize history for accuracy\n",
        "plt.plot(training.history['accuracy'])\n",
        "plt.plot(training.history['val_accuracy'])\n",
        "plt.title('model accuracy')\n",
        "plt.ylabel('accuracy')\n",
        "plt.xlabel('epoch')\n",
        "plt.legend(['train', 'validation'], loc='upper left')\n",
        "plt.show()"
      ],
      "execution_count": null,
      "outputs": [
        {
          "output_type": "display_data",
          "data": {
            "image/png": "[encoded data removed]",
            "text/plain": [
              "<Figure size 432x288 with 1 Axes>"
            ]
          },
          "metadata": {
            "tags": [],
            "needs_background": "light"
          }
        }
      ]
    },
    {
      "cell_type": "markdown",
      "metadata": {
        "_cell_guid": "5ccf334a-8a72-45e5-b565-cc516639e087",
        "_uuid": "ae291559b10db2f627a87f62a553d15da43ada31",
        "id": "q_sAHa_7SbYc"
      },
      "source": [
        "## 3.3. Make Predictions on Test Set\n",
        "Finally, we can attempt to predict which passengers in the test set survived."
      ]
    },
    {
      "cell_type": "code",
      "metadata": {
        "_cell_guid": "48508e7a-cc0f-4c8d-a102-57451d0371de",
        "_uuid": "b40dfc26258b3a73d956db1d697c85caf9ad97bb",
        "id": "acTpLVjPSbYc"
      },
      "source": [
        "# calculate predictions\n",
        "test['Survived'] = model.predict(X_test)\n",
        "test['Survived'] = test['Survived'].apply(lambda x: round(x,0)).astype('int')\n",
        "solution = test[['PassengerId', 'Survived']]"
      ],
      "execution_count": null,
      "outputs": []
    },
    {
      "cell_type": "code",
      "metadata": {
        "_uuid": "c745a7f0663c1ef0cecef30bd7a38daff6420354",
        "id": "Z19xzrgwSbYe",
        "outputId": "d4475885-62c4-4082-bf9d-ee4df4fd0095"
      },
      "source": [
        "solution.head(10)"
      ],
      "execution_count": null,
      "outputs": [
        {
          "output_type": "execute_result",
          "data": {
            "text/html": [
              "<div>\n",
              "<style scoped>\n",
              "    .dataframe tbody tr th:only-of-type {\n",
              "        vertical-align: middle;\n",
              "    }\n",
              "\n",
              "    .dataframe tbody tr th {\n",
              "        vertical-align: top;\n",
              "    }\n",
              "\n",
              "    .dataframe thead th {\n",
              "        text-align: right;\n",
              "    }\n",
              "</style>\n",
              "<table border=\"1\" class=\"dataframe\">\n",
              "  <thead>\n",
              "    <tr style=\"text-align: right;\">\n",
              "      <th></th>\n",
              "      <th>PassengerId</th>\n",
              "      <th>Survived</th>\n",
              "    </tr>\n",
              "  </thead>\n",
              "  <tbody>\n",
              "    <tr>\n",
              "      <td>0</td>\n",
              "      <td>892</td>\n",
              "      <td>0</td>\n",
              "    </tr>\n",
              "    <tr>\n",
              "      <td>1</td>\n",
              "      <td>893</td>\n",
              "      <td>1</td>\n",
              "    </tr>\n",
              "    <tr>\n",
              "      <td>2</td>\n",
              "      <td>894</td>\n",
              "      <td>0</td>\n",
              "    </tr>\n",
              "    <tr>\n",
              "      <td>3</td>\n",
              "      <td>895</td>\n",
              "      <td>0</td>\n",
              "    </tr>\n",
              "    <tr>\n",
              "      <td>4</td>\n",
              "      <td>896</td>\n",
              "      <td>1</td>\n",
              "    </tr>\n",
              "    <tr>\n",
              "      <td>5</td>\n",
              "      <td>897</td>\n",
              "      <td>0</td>\n",
              "    </tr>\n",
              "    <tr>\n",
              "      <td>6</td>\n",
              "      <td>898</td>\n",
              "      <td>1</td>\n",
              "    </tr>\n",
              "    <tr>\n",
              "      <td>7</td>\n",
              "      <td>899</td>\n",
              "      <td>0</td>\n",
              "    </tr>\n",
              "    <tr>\n",
              "      <td>8</td>\n",
              "      <td>900</td>\n",
              "      <td>1</td>\n",
              "    </tr>\n",
              "    <tr>\n",
              "      <td>9</td>\n",
              "      <td>901</td>\n",
              "      <td>0</td>\n",
              "    </tr>\n",
              "  </tbody>\n",
              "</table>\n",
              "</div>"
            ],
            "text/plain": [
              "   PassengerId  Survived\n",
              "0          892         0\n",
              "1          893         1\n",
              "2          894         0\n",
              "3          895         0\n",
              "4          896         1\n",
              "5          897         0\n",
              "6          898         1\n",
              "7          899         0\n",
              "8          900         1\n",
              "9          901         0"
            ]
          },
          "metadata": {
            "tags": []
          },
          "execution_count": 93
        }
      ]
    },
    {
      "cell_type": "markdown",
      "metadata": {
        "_cell_guid": "0f646038-2eb3-4a77-94f5-a3abc6c3be1f",
        "_uuid": "0a9b9f4189c03b253c9140c4a93c9f453508a6ba",
        "id": "-GKZu4OQSbYf"
      },
      "source": [
        "## 3.4. Output Final Predictions"
      ]
    },
    {
      "cell_type": "code",
      "metadata": {
        "_cell_guid": "04e4be98-5955-43ab-a355-be65580a1162",
        "_uuid": "7dc52ff626a2620c8607c25d85bd8952f049690b",
        "id": "mv21kEyuSbYf"
      },
      "source": [
        "#solution.to_csv(\"Neural_Network_Solution.csv\", index=False)"
      ],
      "execution_count": null,
      "outputs": []
    }
  ]
}