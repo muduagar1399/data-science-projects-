{
 "cells": [
  {
   "cell_type": "markdown",
   "id": "ba21085a",
   "metadata": {},
   "source": [
    "## E-COMMERCE data analysis "
   ]
  },
  {
   "cell_type": "markdown",
   "id": "f1e218be",
   "metadata": {},
   "source": [
    "## data prepartion and cleaning "
   ]
  },
  {
   "cell_type": "code",
   "execution_count": 2,
   "id": "f6d40e7d",
   "metadata": {},
   "outputs": [],
   "source": [
    "import numpy as np\n",
    "import pandas as pd\n",
    "import matplotlib.pyplot as plt \n",
    "import seaborn as sns "
   ]
  },
  {
   "cell_type": "code",
   "execution_count": 3,
   "id": "d6f2b620",
   "metadata": {
    "scrolled": true
   },
   "outputs": [
    {
     "name": "stdout",
     "output_type": "stream",
     "text": [
      "Requirement already satisfied: pyxlsb in c:\\users\\asus\\anaconda3\\lib\\site-packages (1.0.10)\n",
      "Note: you may need to restart the kernel to use updated packages.\n"
     ]
    }
   ],
   "source": [
    "pip install pyxlsb\n"
   ]
  },
  {
   "cell_type": "markdown",
   "id": "1e2e8af6",
   "metadata": {},
   "source": [
    "## converting excel binary file to excel "
   ]
  },
  {
   "cell_type": "code",
   "execution_count": 4,
   "id": "e89966f5",
   "metadata": {},
   "outputs": [
    {
     "name": "stdout",
     "output_type": "stream",
     "text": [
      "Conversion complete. Data saved to output_file.xlsx\n"
     ]
    }
   ],
   "source": [
    "from pyxlsb import open_workbook\n",
    "from openpyxl import Workbook\n",
    "from openpyxl.utils.dataframe import dataframe_to_rows\n",
    "import pandas as pd\n",
    "\n",
    "\n",
    "input_file = 'ecommerce sales.xlsb'\n",
    "output_file = 'output_file.xlsx'\n",
    "\n",
    "data = []\n",
    "\n",
    "with open_workbook(input_file) as wb:\n",
    "    with wb.get_sheet(1) as sheet:  \n",
    "        for row in sheet.rows():\n",
    "            data.append([item.v for item in row])\n",
    "\n",
    "\n",
    "df = pd.DataFrame(data)\n",
    "\n",
    "wb = Workbook()\n",
    "ws = wb.active\n",
    "\n",
    "for row in dataframe_to_rows(df, index=False, header=True):\n",
    "    ws.append(row)\n",
    "\n",
    "wb.save(output_file)\n",
    "\n",
    "print(f'Conversion complete. Data saved to {output_file}')\n"
   ]
  },
  {
   "cell_type": "code",
   "execution_count": 5,
   "id": "7859f8a3",
   "metadata": {},
   "outputs": [],
   "source": [
    "data=pd.read_excel('output_file.xlsx')"
   ]
  },
  {
   "cell_type": "code",
   "execution_count": 6,
   "id": "96641ce6",
   "metadata": {},
   "outputs": [
    {
     "data": {
      "text/html": [
       "<div>\n",
       "<style scoped>\n",
       "    .dataframe tbody tr th:only-of-type {\n",
       "        vertical-align: middle;\n",
       "    }\n",
       "\n",
       "    .dataframe tbody tr th {\n",
       "        vertical-align: top;\n",
       "    }\n",
       "\n",
       "    .dataframe thead th {\n",
       "        text-align: right;\n",
       "    }\n",
       "</style>\n",
       "<table border=\"1\" class=\"dataframe\">\n",
       "  <thead>\n",
       "    <tr style=\"text-align: right;\">\n",
       "      <th></th>\n",
       "      <th>0</th>\n",
       "      <th>1</th>\n",
       "      <th>2</th>\n",
       "      <th>3</th>\n",
       "      <th>4</th>\n",
       "      <th>5</th>\n",
       "      <th>6</th>\n",
       "      <th>7</th>\n",
       "      <th>8</th>\n",
       "      <th>9</th>\n",
       "    </tr>\n",
       "  </thead>\n",
       "  <tbody>\n",
       "    <tr>\n",
       "      <th>0</th>\n",
       "      <td>Cod_cmd</td>\n",
       "      <td>Libellé produit</td>\n",
       "      <td>Vendeur</td>\n",
       "      <td>Univers</td>\n",
       "      <td>Nature</td>\n",
       "      <td>Date de commande</td>\n",
       "      <td>Montant cmd</td>\n",
       "      <td>Quantité</td>\n",
       "      <td>Prix transport</td>\n",
       "      <td>Délai transport annoncé</td>\n",
       "    </tr>\n",
       "    <tr>\n",
       "      <th>1</th>\n",
       "      <td>182210782</td>\n",
       "      <td>Table basse carrée detroit design industriel</td>\n",
       "      <td>Autre vendeur</td>\n",
       "      <td>Canapé Salon Séjour</td>\n",
       "      <td>Table basse</td>\n",
       "      <td>44216</td>\n",
       "      <td>244</td>\n",
       "      <td>4</td>\n",
       "      <td>6.67</td>\n",
       "      <td>10</td>\n",
       "    </tr>\n",
       "    <tr>\n",
       "      <th>2</th>\n",
       "      <td>182082437</td>\n",
       "      <td>Ours en peluche géant 150 cm brun</td>\n",
       "      <td>Autre vendeur</td>\n",
       "      <td>Enfant Bébé</td>\n",
       "      <td>Peluche</td>\n",
       "      <td>44213</td>\n",
       "      <td>28</td>\n",
       "      <td>1</td>\n",
       "      <td>9.92</td>\n",
       "      <td>10</td>\n",
       "    </tr>\n",
       "    <tr>\n",
       "      <th>3</th>\n",
       "      <td>182095765</td>\n",
       "      <td>Ours en peluche géant 100 cm blanc</td>\n",
       "      <td>Autre vendeur</td>\n",
       "      <td>Enfant Bébé</td>\n",
       "      <td>Peluche</td>\n",
       "      <td>44214</td>\n",
       "      <td>15</td>\n",
       "      <td>1</td>\n",
       "      <td>9.92</td>\n",
       "      <td>10</td>\n",
       "    </tr>\n",
       "    <tr>\n",
       "      <th>4</th>\n",
       "      <td>182615392</td>\n",
       "      <td>Lot de 4 chaises mia noires pour salle à manger</td>\n",
       "      <td>Autre vendeur</td>\n",
       "      <td>Canapé Salon Séjour</td>\n",
       "      <td>Chaise</td>\n",
       "      <td>44219</td>\n",
       "      <td>385</td>\n",
       "      <td>2</td>\n",
       "      <td>20.75</td>\n",
       "      <td>10</td>\n",
       "    </tr>\n",
       "    <tr>\n",
       "      <th>...</th>\n",
       "      <td>...</td>\n",
       "      <td>...</td>\n",
       "      <td>...</td>\n",
       "      <td>...</td>\n",
       "      <td>...</td>\n",
       "      <td>...</td>\n",
       "      <td>...</td>\n",
       "      <td>...</td>\n",
       "      <td>...</td>\n",
       "      <td>...</td>\n",
       "    </tr>\n",
       "    <tr>\n",
       "      <th>525030</th>\n",
       "      <td>186997203</td>\n",
       "      <td>Lit coffre madrid 140x200 + 1 sommier ch ne bl...</td>\n",
       "      <td>Autre vendeur</td>\n",
       "      <td>Chambre Literie</td>\n",
       "      <td>Lit adulte</td>\n",
       "      <td>44284</td>\n",
       "      <td>530</td>\n",
       "      <td>1</td>\n",
       "      <td>70.83</td>\n",
       "      <td>25</td>\n",
       "    </tr>\n",
       "    <tr>\n",
       "      <th>525031</th>\n",
       "      <td>187045930</td>\n",
       "      <td>Nappe antitache ronde infroissable et 100 poly...</td>\n",
       "      <td>Autre vendeur</td>\n",
       "      <td>Décoration Textile</td>\n",
       "      <td>Linge de table</td>\n",
       "      <td>44284</td>\n",
       "      <td>15</td>\n",
       "      <td>1</td>\n",
       "      <td>0</td>\n",
       "      <td>3</td>\n",
       "    </tr>\n",
       "    <tr>\n",
       "      <th>525032</th>\n",
       "      <td>187019687</td>\n",
       "      <td>Good morning housse de couette pour enfants da...</td>\n",
       "      <td>Autre vendeur</td>\n",
       "      <td>Décoration Textile</td>\n",
       "      <td>Housse de couette</td>\n",
       "      <td>44284</td>\n",
       "      <td>23</td>\n",
       "      <td>1</td>\n",
       "      <td>0</td>\n",
       "      <td>6</td>\n",
       "    </tr>\n",
       "    <tr>\n",
       "      <th>525033</th>\n",
       "      <td>186990574</td>\n",
       "      <td>Ampoule pour four e14 25w 230v ac</td>\n",
       "      <td>Autre vendeur</td>\n",
       "      <td>Décoration Textile</td>\n",
       "      <td>Ampoule</td>\n",
       "      <td>44284</td>\n",
       "      <td>15</td>\n",
       "      <td>2</td>\n",
       "      <td>0</td>\n",
       "      <td>7</td>\n",
       "    </tr>\n",
       "    <tr>\n",
       "      <th>525034</th>\n",
       "      <td>211053330</td>\n",
       "      <td>At4 chambre complète carnaval blanc bouleau</td>\n",
       "      <td>Autre vendeur</td>\n",
       "      <td>Chambre Literie</td>\n",
       "      <td>Ensemble chambre</td>\n",
       "      <td>44285</td>\n",
       "      <td>669</td>\n",
       "      <td>1</td>\n",
       "      <td>0</td>\n",
       "      <td>19</td>\n",
       "    </tr>\n",
       "  </tbody>\n",
       "</table>\n",
       "<p>525035 rows × 10 columns</p>\n",
       "</div>"
      ],
      "text/plain": [
       "                0                                                  1  \\\n",
       "0         Cod_cmd                                    Libellé produit   \n",
       "1       182210782       Table basse carrée detroit design industriel   \n",
       "2       182082437                  Ours en peluche géant 150 cm brun   \n",
       "3       182095765                 Ours en peluche géant 100 cm blanc   \n",
       "4       182615392    Lot de 4 chaises mia noires pour salle à manger   \n",
       "...           ...                                                ...   \n",
       "525030  186997203  Lit coffre madrid 140x200 + 1 sommier ch ne bl...   \n",
       "525031  187045930  Nappe antitache ronde infroissable et 100 poly...   \n",
       "525032  187019687  Good morning housse de couette pour enfants da...   \n",
       "525033  186990574                  Ampoule pour four e14 25w 230v ac   \n",
       "525034  211053330        At4 chambre complète carnaval blanc bouleau   \n",
       "\n",
       "                    2                    3                  4  \\\n",
       "0             Vendeur              Univers             Nature   \n",
       "1       Autre vendeur  Canapé Salon Séjour        Table basse   \n",
       "2       Autre vendeur          Enfant Bébé            Peluche   \n",
       "3       Autre vendeur          Enfant Bébé            Peluche   \n",
       "4       Autre vendeur  Canapé Salon Séjour             Chaise   \n",
       "...               ...                  ...                ...   \n",
       "525030  Autre vendeur      Chambre Literie         Lit adulte   \n",
       "525031  Autre vendeur   Décoration Textile     Linge de table   \n",
       "525032  Autre vendeur   Décoration Textile  Housse de couette   \n",
       "525033  Autre vendeur   Décoration Textile            Ampoule   \n",
       "525034  Autre vendeur      Chambre Literie   Ensemble chambre   \n",
       "\n",
       "                       5            6         7               8  \\\n",
       "0       Date de commande  Montant cmd  Quantité  Prix transport   \n",
       "1                  44216          244         4            6.67   \n",
       "2                  44213           28         1            9.92   \n",
       "3                  44214           15         1            9.92   \n",
       "4                  44219          385         2           20.75   \n",
       "...                  ...          ...       ...             ...   \n",
       "525030             44284          530         1           70.83   \n",
       "525031             44284           15         1               0   \n",
       "525032             44284           23         1               0   \n",
       "525033             44284           15         2               0   \n",
       "525034             44285          669         1               0   \n",
       "\n",
       "                              9  \n",
       "0       Délai transport annoncé  \n",
       "1                            10  \n",
       "2                            10  \n",
       "3                            10  \n",
       "4                            10  \n",
       "...                         ...  \n",
       "525030                       25  \n",
       "525031                        3  \n",
       "525032                        6  \n",
       "525033                        7  \n",
       "525034                       19  \n",
       "\n",
       "[525035 rows x 10 columns]"
      ]
     },
     "execution_count": 6,
     "metadata": {},
     "output_type": "execute_result"
    }
   ],
   "source": [
    "data"
   ]
  },
  {
   "cell_type": "code",
   "execution_count": 7,
   "id": "6e822b76",
   "metadata": {},
   "outputs": [
    {
     "data": {
      "text/plain": [
       "0         0\n",
       "1         0\n",
       "2         0\n",
       "3     17687\n",
       "4     11745\n",
       "5         0\n",
       "6         0\n",
       "7         0\n",
       "8         0\n",
       "9    239423\n",
       "dtype: int64"
      ]
     },
     "execution_count": 7,
     "metadata": {},
     "output_type": "execute_result"
    }
   ],
   "source": [
    "data.isnull().sum()"
   ]
  },
  {
   "cell_type": "code",
   "execution_count": 8,
   "id": "d01b387a",
   "metadata": {},
   "outputs": [
    {
     "data": {
      "text/plain": [
       "[0, 1, 2, 3, 4, 5, 6, 7, 8, 9]"
      ]
     },
     "execution_count": 8,
     "metadata": {},
     "output_type": "execute_result"
    }
   ],
   "source": [
    "data.columns.to_list()"
   ]
  },
  {
   "cell_type": "code",
   "execution_count": 9,
   "id": "a9cd0e19",
   "metadata": {},
   "outputs": [
    {
     "data": {
      "text/plain": [
       "0                                           Libellé produit\n",
       "1              Table basse carrée detroit design industriel\n",
       "2                         Ours en peluche géant 150 cm brun\n",
       "3                        Ours en peluche géant 100 cm blanc\n",
       "4           Lot de 4 chaises mia noires pour salle à manger\n",
       "                                ...                        \n",
       "525030    Lit coffre madrid 140x200 + 1 sommier ch ne bl...\n",
       "525031    Nappe antitache ronde infroissable et 100 poly...\n",
       "525032    Good morning housse de couette pour enfants da...\n",
       "525033                    Ampoule pour four e14 25w 230v ac\n",
       "525034          At4 chambre complète carnaval blanc bouleau\n",
       "Name: 1, Length: 525035, dtype: object"
      ]
     },
     "execution_count": 9,
     "metadata": {},
     "output_type": "execute_result"
    }
   ],
   "source": [
    "data[1]"
   ]
  },
  {
   "cell_type": "code",
   "execution_count": 10,
   "id": "e3af508a",
   "metadata": {},
   "outputs": [
    {
     "data": {
      "text/plain": [
       "<bound method DataFrame.duplicated of                 0                                                  1  \\\n",
       "0         Cod_cmd                                    Libellé produit   \n",
       "1       182210782       Table basse carrée detroit design industriel   \n",
       "2       182082437                  Ours en peluche géant 150 cm brun   \n",
       "3       182095765                 Ours en peluche géant 100 cm blanc   \n",
       "4       182615392    Lot de 4 chaises mia noires pour salle à manger   \n",
       "...           ...                                                ...   \n",
       "525030  186997203  Lit coffre madrid 140x200 + 1 sommier ch ne bl...   \n",
       "525031  187045930  Nappe antitache ronde infroissable et 100 poly...   \n",
       "525032  187019687  Good morning housse de couette pour enfants da...   \n",
       "525033  186990574                  Ampoule pour four e14 25w 230v ac   \n",
       "525034  211053330        At4 chambre complète carnaval blanc bouleau   \n",
       "\n",
       "                    2                    3                  4  \\\n",
       "0             Vendeur              Univers             Nature   \n",
       "1       Autre vendeur  Canapé Salon Séjour        Table basse   \n",
       "2       Autre vendeur          Enfant Bébé            Peluche   \n",
       "3       Autre vendeur          Enfant Bébé            Peluche   \n",
       "4       Autre vendeur  Canapé Salon Séjour             Chaise   \n",
       "...               ...                  ...                ...   \n",
       "525030  Autre vendeur      Chambre Literie         Lit adulte   \n",
       "525031  Autre vendeur   Décoration Textile     Linge de table   \n",
       "525032  Autre vendeur   Décoration Textile  Housse de couette   \n",
       "525033  Autre vendeur   Décoration Textile            Ampoule   \n",
       "525034  Autre vendeur      Chambre Literie   Ensemble chambre   \n",
       "\n",
       "                       5            6         7               8  \\\n",
       "0       Date de commande  Montant cmd  Quantité  Prix transport   \n",
       "1                  44216          244         4            6.67   \n",
       "2                  44213           28         1            9.92   \n",
       "3                  44214           15         1            9.92   \n",
       "4                  44219          385         2           20.75   \n",
       "...                  ...          ...       ...             ...   \n",
       "525030             44284          530         1           70.83   \n",
       "525031             44284           15         1               0   \n",
       "525032             44284           23         1               0   \n",
       "525033             44284           15         2               0   \n",
       "525034             44285          669         1               0   \n",
       "\n",
       "                              9  \n",
       "0       Délai transport annoncé  \n",
       "1                            10  \n",
       "2                            10  \n",
       "3                            10  \n",
       "4                            10  \n",
       "...                         ...  \n",
       "525030                       25  \n",
       "525031                        3  \n",
       "525032                        6  \n",
       "525033                        7  \n",
       "525034                       19  \n",
       "\n",
       "[525035 rows x 10 columns]>"
      ]
     },
     "execution_count": 10,
     "metadata": {},
     "output_type": "execute_result"
    }
   ],
   "source": [
    "data.duplicated"
   ]
  },
  {
   "cell_type": "code",
   "execution_count": 11,
   "id": "67da58f3",
   "metadata": {},
   "outputs": [],
   "source": [
    "data = data.apply(lambda x: x.fillna(np.random.rand() * 10))  ## replacing missing values with random"
   ]
  },
  {
   "cell_type": "code",
   "execution_count": 12,
   "id": "3d05c9d5",
   "metadata": {},
   "outputs": [
    {
     "data": {
      "text/html": [
       "<div>\n",
       "<style scoped>\n",
       "    .dataframe tbody tr th:only-of-type {\n",
       "        vertical-align: middle;\n",
       "    }\n",
       "\n",
       "    .dataframe tbody tr th {\n",
       "        vertical-align: top;\n",
       "    }\n",
       "\n",
       "    .dataframe thead th {\n",
       "        text-align: right;\n",
       "    }\n",
       "</style>\n",
       "<table border=\"1\" class=\"dataframe\">\n",
       "  <thead>\n",
       "    <tr style=\"text-align: right;\">\n",
       "      <th></th>\n",
       "      <th>0</th>\n",
       "      <th>1</th>\n",
       "      <th>2</th>\n",
       "      <th>3</th>\n",
       "      <th>4</th>\n",
       "      <th>5</th>\n",
       "      <th>6</th>\n",
       "      <th>7</th>\n",
       "      <th>8</th>\n",
       "      <th>9</th>\n",
       "    </tr>\n",
       "  </thead>\n",
       "  <tbody>\n",
       "    <tr>\n",
       "      <th>0</th>\n",
       "      <td>Cod_cmd</td>\n",
       "      <td>Libellé produit</td>\n",
       "      <td>Vendeur</td>\n",
       "      <td>Univers</td>\n",
       "      <td>Nature</td>\n",
       "      <td>Date de commande</td>\n",
       "      <td>Montant cmd</td>\n",
       "      <td>Quantité</td>\n",
       "      <td>Prix transport</td>\n",
       "      <td>Délai transport annoncé</td>\n",
       "    </tr>\n",
       "    <tr>\n",
       "      <th>1</th>\n",
       "      <td>182210782</td>\n",
       "      <td>Table basse carrée detroit design industriel</td>\n",
       "      <td>Autre vendeur</td>\n",
       "      <td>Canapé Salon Séjour</td>\n",
       "      <td>Table basse</td>\n",
       "      <td>44216</td>\n",
       "      <td>244</td>\n",
       "      <td>4</td>\n",
       "      <td>6.67</td>\n",
       "      <td>10</td>\n",
       "    </tr>\n",
       "    <tr>\n",
       "      <th>2</th>\n",
       "      <td>182082437</td>\n",
       "      <td>Ours en peluche géant 150 cm brun</td>\n",
       "      <td>Autre vendeur</td>\n",
       "      <td>Enfant Bébé</td>\n",
       "      <td>Peluche</td>\n",
       "      <td>44213</td>\n",
       "      <td>28</td>\n",
       "      <td>1</td>\n",
       "      <td>9.92</td>\n",
       "      <td>10</td>\n",
       "    </tr>\n",
       "    <tr>\n",
       "      <th>3</th>\n",
       "      <td>182095765</td>\n",
       "      <td>Ours en peluche géant 100 cm blanc</td>\n",
       "      <td>Autre vendeur</td>\n",
       "      <td>Enfant Bébé</td>\n",
       "      <td>Peluche</td>\n",
       "      <td>44214</td>\n",
       "      <td>15</td>\n",
       "      <td>1</td>\n",
       "      <td>9.92</td>\n",
       "      <td>10</td>\n",
       "    </tr>\n",
       "    <tr>\n",
       "      <th>4</th>\n",
       "      <td>182615392</td>\n",
       "      <td>Lot de 4 chaises mia noires pour salle à manger</td>\n",
       "      <td>Autre vendeur</td>\n",
       "      <td>Canapé Salon Séjour</td>\n",
       "      <td>Chaise</td>\n",
       "      <td>44219</td>\n",
       "      <td>385</td>\n",
       "      <td>2</td>\n",
       "      <td>20.75</td>\n",
       "      <td>10</td>\n",
       "    </tr>\n",
       "    <tr>\n",
       "      <th>...</th>\n",
       "      <td>...</td>\n",
       "      <td>...</td>\n",
       "      <td>...</td>\n",
       "      <td>...</td>\n",
       "      <td>...</td>\n",
       "      <td>...</td>\n",
       "      <td>...</td>\n",
       "      <td>...</td>\n",
       "      <td>...</td>\n",
       "      <td>...</td>\n",
       "    </tr>\n",
       "    <tr>\n",
       "      <th>525030</th>\n",
       "      <td>186997203</td>\n",
       "      <td>Lit coffre madrid 140x200 + 1 sommier ch ne bl...</td>\n",
       "      <td>Autre vendeur</td>\n",
       "      <td>Chambre Literie</td>\n",
       "      <td>Lit adulte</td>\n",
       "      <td>44284</td>\n",
       "      <td>530</td>\n",
       "      <td>1</td>\n",
       "      <td>70.83</td>\n",
       "      <td>25</td>\n",
       "    </tr>\n",
       "    <tr>\n",
       "      <th>525031</th>\n",
       "      <td>187045930</td>\n",
       "      <td>Nappe antitache ronde infroissable et 100 poly...</td>\n",
       "      <td>Autre vendeur</td>\n",
       "      <td>Décoration Textile</td>\n",
       "      <td>Linge de table</td>\n",
       "      <td>44284</td>\n",
       "      <td>15</td>\n",
       "      <td>1</td>\n",
       "      <td>0</td>\n",
       "      <td>3</td>\n",
       "    </tr>\n",
       "    <tr>\n",
       "      <th>525032</th>\n",
       "      <td>187019687</td>\n",
       "      <td>Good morning housse de couette pour enfants da...</td>\n",
       "      <td>Autre vendeur</td>\n",
       "      <td>Décoration Textile</td>\n",
       "      <td>Housse de couette</td>\n",
       "      <td>44284</td>\n",
       "      <td>23</td>\n",
       "      <td>1</td>\n",
       "      <td>0</td>\n",
       "      <td>6</td>\n",
       "    </tr>\n",
       "    <tr>\n",
       "      <th>525033</th>\n",
       "      <td>186990574</td>\n",
       "      <td>Ampoule pour four e14 25w 230v ac</td>\n",
       "      <td>Autre vendeur</td>\n",
       "      <td>Décoration Textile</td>\n",
       "      <td>Ampoule</td>\n",
       "      <td>44284</td>\n",
       "      <td>15</td>\n",
       "      <td>2</td>\n",
       "      <td>0</td>\n",
       "      <td>7</td>\n",
       "    </tr>\n",
       "    <tr>\n",
       "      <th>525034</th>\n",
       "      <td>211053330</td>\n",
       "      <td>At4 chambre complète carnaval blanc bouleau</td>\n",
       "      <td>Autre vendeur</td>\n",
       "      <td>Chambre Literie</td>\n",
       "      <td>Ensemble chambre</td>\n",
       "      <td>44285</td>\n",
       "      <td>669</td>\n",
       "      <td>1</td>\n",
       "      <td>0</td>\n",
       "      <td>19</td>\n",
       "    </tr>\n",
       "  </tbody>\n",
       "</table>\n",
       "<p>525035 rows × 10 columns</p>\n",
       "</div>"
      ],
      "text/plain": [
       "                0                                                  1  \\\n",
       "0         Cod_cmd                                    Libellé produit   \n",
       "1       182210782       Table basse carrée detroit design industriel   \n",
       "2       182082437                  Ours en peluche géant 150 cm brun   \n",
       "3       182095765                 Ours en peluche géant 100 cm blanc   \n",
       "4       182615392    Lot de 4 chaises mia noires pour salle à manger   \n",
       "...           ...                                                ...   \n",
       "525030  186997203  Lit coffre madrid 140x200 + 1 sommier ch ne bl...   \n",
       "525031  187045930  Nappe antitache ronde infroissable et 100 poly...   \n",
       "525032  187019687  Good morning housse de couette pour enfants da...   \n",
       "525033  186990574                  Ampoule pour four e14 25w 230v ac   \n",
       "525034  211053330        At4 chambre complète carnaval blanc bouleau   \n",
       "\n",
       "                    2                    3                  4  \\\n",
       "0             Vendeur              Univers             Nature   \n",
       "1       Autre vendeur  Canapé Salon Séjour        Table basse   \n",
       "2       Autre vendeur          Enfant Bébé            Peluche   \n",
       "3       Autre vendeur          Enfant Bébé            Peluche   \n",
       "4       Autre vendeur  Canapé Salon Séjour             Chaise   \n",
       "...               ...                  ...                ...   \n",
       "525030  Autre vendeur      Chambre Literie         Lit adulte   \n",
       "525031  Autre vendeur   Décoration Textile     Linge de table   \n",
       "525032  Autre vendeur   Décoration Textile  Housse de couette   \n",
       "525033  Autre vendeur   Décoration Textile            Ampoule   \n",
       "525034  Autre vendeur      Chambre Literie   Ensemble chambre   \n",
       "\n",
       "                       5            6         7               8  \\\n",
       "0       Date de commande  Montant cmd  Quantité  Prix transport   \n",
       "1                  44216          244         4            6.67   \n",
       "2                  44213           28         1            9.92   \n",
       "3                  44214           15         1            9.92   \n",
       "4                  44219          385         2           20.75   \n",
       "...                  ...          ...       ...             ...   \n",
       "525030             44284          530         1           70.83   \n",
       "525031             44284           15         1               0   \n",
       "525032             44284           23         1               0   \n",
       "525033             44284           15         2               0   \n",
       "525034             44285          669         1               0   \n",
       "\n",
       "                              9  \n",
       "0       Délai transport annoncé  \n",
       "1                            10  \n",
       "2                            10  \n",
       "3                            10  \n",
       "4                            10  \n",
       "...                         ...  \n",
       "525030                       25  \n",
       "525031                        3  \n",
       "525032                        6  \n",
       "525033                        7  \n",
       "525034                       19  \n",
       "\n",
       "[525035 rows x 10 columns]"
      ]
     },
     "execution_count": 12,
     "metadata": {},
     "output_type": "execute_result"
    }
   ],
   "source": [
    "data"
   ]
  },
  {
   "cell_type": "code",
   "execution_count": 13,
   "id": "d895042f",
   "metadata": {},
   "outputs": [
    {
     "data": {
      "text/plain": [
       "0    0\n",
       "1    0\n",
       "2    0\n",
       "3    0\n",
       "4    0\n",
       "5    0\n",
       "6    0\n",
       "7    0\n",
       "8    0\n",
       "9    0\n",
       "dtype: int64"
      ]
     },
     "execution_count": 13,
     "metadata": {},
     "output_type": "execute_result"
    }
   ],
   "source": [
    "data.isnull().sum()"
   ]
  },
  {
   "cell_type": "code",
   "execution_count": 14,
   "id": "f5687c6c",
   "metadata": {},
   "outputs": [],
   "source": [
    "data_no_duplicates = data.drop_duplicates()\n"
   ]
  },
  {
   "cell_type": "code",
   "execution_count": 15,
   "id": "c1f64cdc",
   "metadata": {},
   "outputs": [
    {
     "data": {
      "text/plain": [
       "0         False\n",
       "1         False\n",
       "2         False\n",
       "3         False\n",
       "4         False\n",
       "          ...  \n",
       "525030    False\n",
       "525031    False\n",
       "525032    False\n",
       "525033    False\n",
       "525034    False\n",
       "Length: 525035, dtype: bool"
      ]
     },
     "execution_count": 15,
     "metadata": {},
     "output_type": "execute_result"
    }
   ],
   "source": [
    "data.duplicated() ## removing duplicates "
   ]
  },
  {
   "cell_type": "code",
   "execution_count": 16,
   "id": "122f11db",
   "metadata": {},
   "outputs": [
    {
     "name": "stdout",
     "output_type": "stream",
     "text": [
      "<class 'pandas.core.frame.DataFrame'>\n",
      "RangeIndex: 525035 entries, 0 to 525034\n",
      "Data columns (total 10 columns):\n",
      " #   Column  Non-Null Count   Dtype \n",
      "---  ------  --------------   ----- \n",
      " 0   0       525035 non-null  object\n",
      " 1   1       525035 non-null  object\n",
      " 2   2       525035 non-null  object\n",
      " 3   3       525035 non-null  object\n",
      " 4   4       525035 non-null  object\n",
      " 5   5       525035 non-null  object\n",
      " 6   6       525035 non-null  object\n",
      " 7   7       525035 non-null  object\n",
      " 8   8       525035 non-null  object\n",
      " 9   9       525035 non-null  object\n",
      "dtypes: object(10)\n",
      "memory usage: 40.1+ MB\n"
     ]
    }
   ],
   "source": [
    "data.info()"
   ]
  },
  {
   "cell_type": "code",
   "execution_count": 17,
   "id": "c59ca4d9",
   "metadata": {},
   "outputs": [
    {
     "data": {
      "text/html": [
       "<div>\n",
       "<style scoped>\n",
       "    .dataframe tbody tr th:only-of-type {\n",
       "        vertical-align: middle;\n",
       "    }\n",
       "\n",
       "    .dataframe tbody tr th {\n",
       "        vertical-align: top;\n",
       "    }\n",
       "\n",
       "    .dataframe thead th {\n",
       "        text-align: right;\n",
       "    }\n",
       "</style>\n",
       "<table border=\"1\" class=\"dataframe\">\n",
       "  <thead>\n",
       "    <tr style=\"text-align: right;\">\n",
       "      <th></th>\n",
       "      <th>0</th>\n",
       "      <th>1</th>\n",
       "      <th>2</th>\n",
       "      <th>3</th>\n",
       "      <th>4</th>\n",
       "      <th>5</th>\n",
       "      <th>6</th>\n",
       "      <th>7</th>\n",
       "      <th>8</th>\n",
       "      <th>9</th>\n",
       "    </tr>\n",
       "  </thead>\n",
       "  <tbody>\n",
       "    <tr>\n",
       "      <th>count</th>\n",
       "      <td>525035</td>\n",
       "      <td>525035</td>\n",
       "      <td>525035</td>\n",
       "      <td>525035</td>\n",
       "      <td>525035</td>\n",
       "      <td>525035</td>\n",
       "      <td>525035</td>\n",
       "      <td>525035</td>\n",
       "      <td>525035</td>\n",
       "      <td>525035.000000</td>\n",
       "    </tr>\n",
       "    <tr>\n",
       "      <th>unique</th>\n",
       "      <td>404940</td>\n",
       "      <td>56019</td>\n",
       "      <td>8</td>\n",
       "      <td>12</td>\n",
       "      <td>598</td>\n",
       "      <td>91</td>\n",
       "      <td>2152</td>\n",
       "      <td>42</td>\n",
       "      <td>545</td>\n",
       "      <td>76.000000</td>\n",
       "    </tr>\n",
       "    <tr>\n",
       "      <th>top</th>\n",
       "      <td>181478638</td>\n",
       "      <td>Adhérer au programme fidélité Ma Carte Confo +</td>\n",
       "      <td>Vendeur 1</td>\n",
       "      <td>Chambre Literie</td>\n",
       "      <td>Matelas</td>\n",
       "      <td>44216</td>\n",
       "      <td>15</td>\n",
       "      <td>1</td>\n",
       "      <td>0</td>\n",
       "      <td>8.518503</td>\n",
       "    </tr>\n",
       "    <tr>\n",
       "      <th>freq</th>\n",
       "      <td>31</td>\n",
       "      <td>6916</td>\n",
       "      <td>291545</td>\n",
       "      <td>122025</td>\n",
       "      <td>35593</td>\n",
       "      <td>12671</td>\n",
       "      <td>62311</td>\n",
       "      <td>486202</td>\n",
       "      <td>399117</td>\n",
       "      <td>239423.000000</td>\n",
       "    </tr>\n",
       "  </tbody>\n",
       "</table>\n",
       "</div>"
      ],
      "text/plain": [
       "                0                                               1          2  \\\n",
       "count      525035                                          525035     525035   \n",
       "unique     404940                                           56019          8   \n",
       "top     181478638  Adhérer au programme fidélité Ma Carte Confo +  Vendeur 1   \n",
       "freq           31                                            6916     291545   \n",
       "\n",
       "                      3        4       5       6       7       8  \\\n",
       "count            525035   525035  525035  525035  525035  525035   \n",
       "unique               12      598      91    2152      42     545   \n",
       "top     Chambre Literie  Matelas   44216      15       1       0   \n",
       "freq             122025    35593   12671   62311  486202  399117   \n",
       "\n",
       "                    9  \n",
       "count   525035.000000  \n",
       "unique      76.000000  \n",
       "top          8.518503  \n",
       "freq    239423.000000  "
      ]
     },
     "execution_count": 17,
     "metadata": {},
     "output_type": "execute_result"
    }
   ],
   "source": [
    "data.describe()"
   ]
  },
  {
   "cell_type": "code",
   "execution_count": 18,
   "id": "9736aafe",
   "metadata": {},
   "outputs": [
    {
     "data": {
      "text/plain": [
       "(525035, 10)"
      ]
     },
     "execution_count": 18,
     "metadata": {},
     "output_type": "execute_result"
    }
   ],
   "source": [
    "data.shape"
   ]
  },
  {
   "cell_type": "code",
   "execution_count": null,
   "id": "b484367b",
   "metadata": {},
   "outputs": [],
   "source": []
  },
  {
   "cell_type": "code",
   "execution_count": null,
   "id": "3f89b861",
   "metadata": {},
   "outputs": [],
   "source": []
  },
  {
   "cell_type": "code",
   "execution_count": 19,
   "id": "aaa9bb3e",
   "metadata": {},
   "outputs": [
    {
     "name": "stdout",
     "output_type": "stream",
     "text": [
      "Int64Index([0, 1, 2, 3, 4, 5, 6, 7, 8, 9], dtype='int64')\n"
     ]
    }
   ],
   "source": [
    "import pandas as pd\n",
    "column_names = data.columns\n",
    "print(column_names)\n"
   ]
  },
  {
   "cell_type": "code",
   "execution_count": 20,
   "id": "f0092cd9",
   "metadata": {},
   "outputs": [
    {
     "name": "stdout",
     "output_type": "stream",
     "text": [
      "Int64Index([0, 1, 2, 3, 4, 5, 6, 7, 8, 9], dtype='int64')\n"
     ]
    }
   ],
   "source": [
    "print(data.columns)"
   ]
  },
  {
   "cell_type": "code",
   "execution_count": 21,
   "id": "761f4186",
   "metadata": {},
   "outputs": [
    {
     "name": "stdout",
     "output_type": "stream",
     "text": [
      "Int64Index([0, 1, 2, 3, 4, 5, 6, 7, 8, 9], dtype='int64')\n"
     ]
    }
   ],
   "source": [
    "column_names = data.columns\n",
    "print(column_names)\n"
   ]
  },
  {
   "cell_type": "markdown",
   "id": "c676c0c4",
   "metadata": {},
   "source": [
    "## overview data "
   ]
  },
  {
   "cell_type": "code",
   "execution_count": 22,
   "id": "2bb3e6b2",
   "metadata": {},
   "outputs": [
    {
     "data": {
      "text/html": [
       "<div>\n",
       "<style scoped>\n",
       "    .dataframe tbody tr th:only-of-type {\n",
       "        vertical-align: middle;\n",
       "    }\n",
       "\n",
       "    .dataframe tbody tr th {\n",
       "        vertical-align: top;\n",
       "    }\n",
       "\n",
       "    .dataframe thead th {\n",
       "        text-align: right;\n",
       "    }\n",
       "</style>\n",
       "<table border=\"1\" class=\"dataframe\">\n",
       "  <thead>\n",
       "    <tr style=\"text-align: right;\">\n",
       "      <th></th>\n",
       "      <th>0</th>\n",
       "      <th>1</th>\n",
       "      <th>2</th>\n",
       "      <th>3</th>\n",
       "      <th>4</th>\n",
       "      <th>5</th>\n",
       "      <th>6</th>\n",
       "      <th>7</th>\n",
       "      <th>8</th>\n",
       "      <th>9</th>\n",
       "    </tr>\n",
       "  </thead>\n",
       "  <tbody>\n",
       "    <tr>\n",
       "      <th>0</th>\n",
       "      <td>Cod_cmd</td>\n",
       "      <td>Libellé produit</td>\n",
       "      <td>Vendeur</td>\n",
       "      <td>Univers</td>\n",
       "      <td>Nature</td>\n",
       "      <td>Date de commande</td>\n",
       "      <td>Montant cmd</td>\n",
       "      <td>Quantité</td>\n",
       "      <td>Prix transport</td>\n",
       "      <td>Délai transport annoncé</td>\n",
       "    </tr>\n",
       "    <tr>\n",
       "      <th>1</th>\n",
       "      <td>182210782</td>\n",
       "      <td>Table basse carrée detroit design industriel</td>\n",
       "      <td>Autre vendeur</td>\n",
       "      <td>Canapé Salon Séjour</td>\n",
       "      <td>Table basse</td>\n",
       "      <td>44216</td>\n",
       "      <td>244</td>\n",
       "      <td>4</td>\n",
       "      <td>6.67</td>\n",
       "      <td>10</td>\n",
       "    </tr>\n",
       "    <tr>\n",
       "      <th>2</th>\n",
       "      <td>182082437</td>\n",
       "      <td>Ours en peluche géant 150 cm brun</td>\n",
       "      <td>Autre vendeur</td>\n",
       "      <td>Enfant Bébé</td>\n",
       "      <td>Peluche</td>\n",
       "      <td>44213</td>\n",
       "      <td>28</td>\n",
       "      <td>1</td>\n",
       "      <td>9.92</td>\n",
       "      <td>10</td>\n",
       "    </tr>\n",
       "    <tr>\n",
       "      <th>3</th>\n",
       "      <td>182095765</td>\n",
       "      <td>Ours en peluche géant 100 cm blanc</td>\n",
       "      <td>Autre vendeur</td>\n",
       "      <td>Enfant Bébé</td>\n",
       "      <td>Peluche</td>\n",
       "      <td>44214</td>\n",
       "      <td>15</td>\n",
       "      <td>1</td>\n",
       "      <td>9.92</td>\n",
       "      <td>10</td>\n",
       "    </tr>\n",
       "    <tr>\n",
       "      <th>4</th>\n",
       "      <td>182615392</td>\n",
       "      <td>Lot de 4 chaises mia noires pour salle à manger</td>\n",
       "      <td>Autre vendeur</td>\n",
       "      <td>Canapé Salon Séjour</td>\n",
       "      <td>Chaise</td>\n",
       "      <td>44219</td>\n",
       "      <td>385</td>\n",
       "      <td>2</td>\n",
       "      <td>20.75</td>\n",
       "      <td>10</td>\n",
       "    </tr>\n",
       "    <tr>\n",
       "      <th>...</th>\n",
       "      <td>...</td>\n",
       "      <td>...</td>\n",
       "      <td>...</td>\n",
       "      <td>...</td>\n",
       "      <td>...</td>\n",
       "      <td>...</td>\n",
       "      <td>...</td>\n",
       "      <td>...</td>\n",
       "      <td>...</td>\n",
       "      <td>...</td>\n",
       "    </tr>\n",
       "    <tr>\n",
       "      <th>525030</th>\n",
       "      <td>186997203</td>\n",
       "      <td>Lit coffre madrid 140x200 + 1 sommier ch ne bl...</td>\n",
       "      <td>Autre vendeur</td>\n",
       "      <td>Chambre Literie</td>\n",
       "      <td>Lit adulte</td>\n",
       "      <td>44284</td>\n",
       "      <td>530</td>\n",
       "      <td>1</td>\n",
       "      <td>70.83</td>\n",
       "      <td>25</td>\n",
       "    </tr>\n",
       "    <tr>\n",
       "      <th>525031</th>\n",
       "      <td>187045930</td>\n",
       "      <td>Nappe antitache ronde infroissable et 100 poly...</td>\n",
       "      <td>Autre vendeur</td>\n",
       "      <td>Décoration Textile</td>\n",
       "      <td>Linge de table</td>\n",
       "      <td>44284</td>\n",
       "      <td>15</td>\n",
       "      <td>1</td>\n",
       "      <td>0</td>\n",
       "      <td>3</td>\n",
       "    </tr>\n",
       "    <tr>\n",
       "      <th>525032</th>\n",
       "      <td>187019687</td>\n",
       "      <td>Good morning housse de couette pour enfants da...</td>\n",
       "      <td>Autre vendeur</td>\n",
       "      <td>Décoration Textile</td>\n",
       "      <td>Housse de couette</td>\n",
       "      <td>44284</td>\n",
       "      <td>23</td>\n",
       "      <td>1</td>\n",
       "      <td>0</td>\n",
       "      <td>6</td>\n",
       "    </tr>\n",
       "    <tr>\n",
       "      <th>525033</th>\n",
       "      <td>186990574</td>\n",
       "      <td>Ampoule pour four e14 25w 230v ac</td>\n",
       "      <td>Autre vendeur</td>\n",
       "      <td>Décoration Textile</td>\n",
       "      <td>Ampoule</td>\n",
       "      <td>44284</td>\n",
       "      <td>15</td>\n",
       "      <td>2</td>\n",
       "      <td>0</td>\n",
       "      <td>7</td>\n",
       "    </tr>\n",
       "    <tr>\n",
       "      <th>525034</th>\n",
       "      <td>211053330</td>\n",
       "      <td>At4 chambre complète carnaval blanc bouleau</td>\n",
       "      <td>Autre vendeur</td>\n",
       "      <td>Chambre Literie</td>\n",
       "      <td>Ensemble chambre</td>\n",
       "      <td>44285</td>\n",
       "      <td>669</td>\n",
       "      <td>1</td>\n",
       "      <td>0</td>\n",
       "      <td>19</td>\n",
       "    </tr>\n",
       "  </tbody>\n",
       "</table>\n",
       "<p>525035 rows × 10 columns</p>\n",
       "</div>"
      ],
      "text/plain": [
       "                0                                                  1  \\\n",
       "0         Cod_cmd                                    Libellé produit   \n",
       "1       182210782       Table basse carrée detroit design industriel   \n",
       "2       182082437                  Ours en peluche géant 150 cm brun   \n",
       "3       182095765                 Ours en peluche géant 100 cm blanc   \n",
       "4       182615392    Lot de 4 chaises mia noires pour salle à manger   \n",
       "...           ...                                                ...   \n",
       "525030  186997203  Lit coffre madrid 140x200 + 1 sommier ch ne bl...   \n",
       "525031  187045930  Nappe antitache ronde infroissable et 100 poly...   \n",
       "525032  187019687  Good morning housse de couette pour enfants da...   \n",
       "525033  186990574                  Ampoule pour four e14 25w 230v ac   \n",
       "525034  211053330        At4 chambre complète carnaval blanc bouleau   \n",
       "\n",
       "                    2                    3                  4  \\\n",
       "0             Vendeur              Univers             Nature   \n",
       "1       Autre vendeur  Canapé Salon Séjour        Table basse   \n",
       "2       Autre vendeur          Enfant Bébé            Peluche   \n",
       "3       Autre vendeur          Enfant Bébé            Peluche   \n",
       "4       Autre vendeur  Canapé Salon Séjour             Chaise   \n",
       "...               ...                  ...                ...   \n",
       "525030  Autre vendeur      Chambre Literie         Lit adulte   \n",
       "525031  Autre vendeur   Décoration Textile     Linge de table   \n",
       "525032  Autre vendeur   Décoration Textile  Housse de couette   \n",
       "525033  Autre vendeur   Décoration Textile            Ampoule   \n",
       "525034  Autre vendeur      Chambre Literie   Ensemble chambre   \n",
       "\n",
       "                       5            6         7               8  \\\n",
       "0       Date de commande  Montant cmd  Quantité  Prix transport   \n",
       "1                  44216          244         4            6.67   \n",
       "2                  44213           28         1            9.92   \n",
       "3                  44214           15         1            9.92   \n",
       "4                  44219          385         2           20.75   \n",
       "...                  ...          ...       ...             ...   \n",
       "525030             44284          530         1           70.83   \n",
       "525031             44284           15         1               0   \n",
       "525032             44284           23         1               0   \n",
       "525033             44284           15         2               0   \n",
       "525034             44285          669         1               0   \n",
       "\n",
       "                              9  \n",
       "0       Délai transport annoncé  \n",
       "1                            10  \n",
       "2                            10  \n",
       "3                            10  \n",
       "4                            10  \n",
       "...                         ...  \n",
       "525030                       25  \n",
       "525031                        3  \n",
       "525032                        6  \n",
       "525033                        7  \n",
       "525034                       19  \n",
       "\n",
       "[525035 rows x 10 columns]"
      ]
     },
     "execution_count": 22,
     "metadata": {},
     "output_type": "execute_result"
    }
   ],
   "source": [
    "data"
   ]
  },
  {
   "cell_type": "code",
   "execution_count": 23,
   "id": "e6030b08",
   "metadata": {},
   "outputs": [
    {
     "data": {
      "text/plain": [
       "0                                           Libellé produit\n",
       "1              Table basse carrée detroit design industriel\n",
       "2                         Ours en peluche géant 150 cm brun\n",
       "3                        Ours en peluche géant 100 cm blanc\n",
       "4           Lot de 4 chaises mia noires pour salle à manger\n",
       "                                ...                        \n",
       "525030    Lit coffre madrid 140x200 + 1 sommier ch ne bl...\n",
       "525031    Nappe antitache ronde infroissable et 100 poly...\n",
       "525032    Good morning housse de couette pour enfants da...\n",
       "525033                    Ampoule pour four e14 25w 230v ac\n",
       "525034          At4 chambre complète carnaval blanc bouleau\n",
       "Name: 1, Length: 525035, dtype: object"
      ]
     },
     "execution_count": 23,
     "metadata": {},
     "output_type": "execute_result"
    }
   ],
   "source": [
    "column_0=data.iloc[:, 0] \n",
    "column_1 = data.iloc[:, 1] \n",
    "column_0\n",
    "column_1"
   ]
  },
  {
   "cell_type": "code",
   "execution_count": 24,
   "id": "8dbbdbce",
   "metadata": {},
   "outputs": [
    {
     "data": {
      "text/plain": [
       "[0, 1, 2, 3, 4, 5, 6, 7, 8, 9]"
      ]
     },
     "execution_count": 24,
     "metadata": {},
     "output_type": "execute_result"
    }
   ],
   "source": [
    "list(data.columns.values)"
   ]
  },
  {
   "cell_type": "code",
   "execution_count": 25,
   "id": "c0f3fdf8",
   "metadata": {},
   "outputs": [
    {
     "name": "stdout",
     "output_type": "stream",
     "text": [
      "\n",
      "Sales by Nature:\n",
      "                       4  Count\n",
      "0                Matelas  35593\n",
      "1             Lit adulte  21133\n",
      "2    Meuble à chaussures  19105\n",
      "3                 Chaise  15591\n",
      "4                 Bureau  15409\n",
      "..                   ...    ...\n",
      "593   Décapeur thermique      1\n",
      "594    Fendeur de bûches      1\n",
      "595   Accessoire biberon      1\n",
      "596     Lame de terrasse      1\n",
      "597               Nature      1\n",
      "\n",
      "[598 rows x 2 columns]\n"
     ]
    }
   ],
   "source": [
    "\n",
    "nature_sales = data[4].value_counts().reset_index()\n",
    "nature_sales.columns = [4, 'Count']\n",
    "print(\"\\nSales by Nature:\")\n",
    "print(nature_sales)\n",
    "\n"
   ]
  },
  {
   "cell_type": "code",
   "execution_count": null,
   "id": "a7796906",
   "metadata": {},
   "outputs": [],
   "source": []
  },
  {
   "cell_type": "code",
   "execution_count": 26,
   "id": "295ba4e2",
   "metadata": {},
   "outputs": [],
   "source": [
    "data[6] = pd.to_numeric(data[6], errors='coerce')\n"
   ]
  },
  {
   "cell_type": "code",
   "execution_count": 27,
   "id": "556c8b0d",
   "metadata": {},
   "outputs": [
    {
     "data": {
      "text/plain": [
       "0           NaN\n",
       "1         244.0\n",
       "2          28.0\n",
       "3          15.0\n",
       "4         385.0\n",
       "          ...  \n",
       "525030    530.0\n",
       "525031     15.0\n",
       "525032     23.0\n",
       "525033     15.0\n",
       "525034    669.0\n",
       "Name: 6, Length: 525035, dtype: float64"
      ]
     },
     "execution_count": 27,
     "metadata": {},
     "output_type": "execute_result"
    }
   ],
   "source": [
    "data[6]"
   ]
  },
  {
   "cell_type": "code",
   "execution_count": 28,
   "id": "c953ab71",
   "metadata": {},
   "outputs": [
    {
     "data": {
      "text/html": [
       "<div>\n",
       "<style scoped>\n",
       "    .dataframe tbody tr th:only-of-type {\n",
       "        vertical-align: middle;\n",
       "    }\n",
       "\n",
       "    .dataframe tbody tr th {\n",
       "        vertical-align: top;\n",
       "    }\n",
       "\n",
       "    .dataframe thead th {\n",
       "        text-align: right;\n",
       "    }\n",
       "</style>\n",
       "<table border=\"1\" class=\"dataframe\">\n",
       "  <thead>\n",
       "    <tr style=\"text-align: right;\">\n",
       "      <th></th>\n",
       "      <th>6</th>\n",
       "    </tr>\n",
       "  </thead>\n",
       "  <tbody>\n",
       "    <tr>\n",
       "      <th>6</th>\n",
       "      <td>1.0</td>\n",
       "    </tr>\n",
       "  </tbody>\n",
       "</table>\n",
       "</div>"
      ],
      "text/plain": [
       "     6\n",
       "6  1.0"
      ]
     },
     "execution_count": 28,
     "metadata": {},
     "output_type": "execute_result"
    }
   ],
   "source": [
    "data.corr()"
   ]
  },
  {
   "cell_type": "code",
   "execution_count": 29,
   "id": "abc19cb6",
   "metadata": {},
   "outputs": [
    {
     "data": {
      "image/png": "[encoded data removed]",
      "text/plain": [
       "<Figure size 720x576 with 2 Axes>"
      ]
     },
     "metadata": {
      "needs_background": "light"
     },
     "output_type": "display_data"
    }
   ],
   "source": [
    "correlation_matrix = data.corr()\n",
    "\n",
    "# Create a heatmap\n",
    "plt.figure(figsize=(10, 8))\n",
    "sns.heatmap(correlation_matrix, annot=True, cmap='coolwarm', fmt=\".2f\")\n",
    "plt.title('Correlation Heatmap')\n",
    "plt.show()\n",
    "\n"
   ]
  },
  {
   "cell_type": "code",
   "execution_count": 30,
   "id": "5c62d13d",
   "metadata": {},
   "outputs": [
    {
     "data": {
      "image/png": "[encoded data removed]",
      "text/plain": [
       "<Figure size 864x432 with 1 Axes>"
      ]
     },
     "metadata": {
      "needs_background": "light"
     },
     "output_type": "display_data"
    }
   ],
   "source": [
    "import matplotlib.pyplot as plt\n",
    "\n",
    "plt.figure(figsize=(12, 6))\n",
    "plt.plot(data.index, data[6])\n",
    "plt.xlabel('Index')\n",
    "plt.ylabel('Total Sales Amount')\n",
    "plt.title('Sales Over Time (Indexed)')\n",
    "plt.grid(True)\n",
    "plt.tight_layout()\n",
    "plt.show()\n"
   ]
  },
  {
   "cell_type": "code",
   "execution_count": 33,
   "id": "607f046b",
   "metadata": {},
   "outputs": [
    {
     "name": "stdout",
     "output_type": "stream",
     "text": [
      "Vendor with Maximum Sales: TV Son Multimédia\n"
     ]
    }
   ],
   "source": [
    "import pandas as pd\n",
    "\n",
    "\n",
    "# Find the row with the maximum sales amount based on index\n",
    "max_sales_row = data.iloc[data[6].idxmax()\n",
    "\n",
    "vendor_with_max_sales = max_sales_row[3]\n",
    "\n",
    "print(f\"Vendor with Maximum Sales: {vendor_with_max_sales}\")"
   ]
  },
  {
   "cell_type": "code",
   "execution_count": 37,
   "id": "0351bc54",
   "metadata": {},
   "outputs": [
    {
     "data": {
      "image/png": "[encoded data removed]",
      "text/plain": [
       "<Figure size 864x432 with 1 Axes>"
      ]
     },
     "metadata": {
      "needs_background": "light"
     },
     "output_type": "display_data"
    }
   ],
   "source": [
    "index_column_3 = df.iloc[:, 3]\n",
    "\n",
    "# Count the number of products in each category (unique values in the selected column)\n",
    "column_counts = index_column_3.value_counts()\n",
    "\n",
    "# Create a bar chart\n",
    "plt.figure(figsize=(12, 6))\n",
    "column_counts.plot(kind='bar', color='skyblue')\n",
    "plt.xlabel('Categories (Nature/Universe)')\n",
    "plt.ylabel('Number of Products')\n",
    "plt.title('Number of Products by Category (Index 3)')\n",
    "plt.xticks(rotation=45, ha=\"right\")\n",
    "plt.tight_layout()\n",
    "plt.show()\n"
   ]
  },
  {
   "cell_type": "code",
   "execution_count": 45,
   "id": "87da4f31",
   "metadata": {},
   "outputs": [],
   "source": [
    "df.set_index(df.columns[3], inplace=True)\n",
    "nature_counts = df.index.value_counts()\n"
   ]
  },
  {
   "cell_type": "code",
   "execution_count": 46,
   "id": "d9f8dedd",
   "metadata": {},
   "outputs": [
    {
     "data": {
      "image/png": "[encoded data removed]",
      "text/plain": [
       "<Figure size 576x576 with 1 Axes>"
      ]
     },
     "metadata": {},
     "output_type": "display_data"
    }
   ],
   "source": [
    "plt.figure(figsize=(8, 8))\n",
    "plt.pie(nature_counts.values, labels=nature_counts.index, autopct='%1.1f%%', startangle=140, colors=sns.color_palette('viridis', len(nature_counts)))\n",
    "plt.axis('equal')\n",
    "plt.title('Distribution of Products by Nature Category (Indexed by Nature)')\n",
    "plt.tight_layout()\n",
    "plt.show()"
   ]
  },
  {
   "cell_type": "code",
   "execution_count": 75,
   "id": "ae2198e7",
   "metadata": {},
   "outputs": [
    {
     "data": {
      "text/plain": [
       "0         Prix transport\n",
       "1                   6.67\n",
       "2                   9.92\n",
       "3                   9.92\n",
       "4                  20.75\n",
       "               ...      \n",
       "525030             70.83\n",
       "525031                 0\n",
       "525032                 0\n",
       "525033                 0\n",
       "525034                 0\n",
       "Name: 8, Length: 525035, dtype: object"
      ]
     },
     "execution_count": 75,
     "metadata": {},
     "output_type": "execute_result"
    }
   ],
   "source": [
    "transport_prices = data.iloc[:, 8] \n",
    "transport_prices\n",
    "\n",
    "\n"
   ]
  },
  {
   "cell_type": "code",
   "execution_count": null,
   "id": "a254e751",
   "metadata": {},
   "outputs": [],
   "source": [
    "\n"
   ]
  },
  {
   "cell_type": "markdown",
   "id": "7a303c10",
   "metadata": {},
   "source": [
    "## task 2"
   ]
  },
  {
   "cell_type": "code",
   "execution_count": null,
   "id": "f9acbe7b",
   "metadata": {},
   "outputs": [],
   "source": []
  },
  {
   "cell_type": "code",
   "execution_count": null,
   "id": "9ff305d3",
   "metadata": {},
   "outputs": [],
   "source": []
  },
  {
   "cell_type": "code",
   "execution_count": null,
   "id": "930ca8c4",
   "metadata": {},
   "outputs": [],
   "source": [
    "## making algorithm\n"
   ]
  },
  {
   "cell_type": "code",
   "execution_count": 47,
   "id": "47604814",
   "metadata": {},
   "outputs": [
    {
     "name": "stdout",
     "output_type": "stream",
     "text": [
      "Dimensions: 140*190 cm\n",
      "Colors: blue\n"
     ]
    }
   ],
   "source": [
    "import re\n",
    "\n",
    "def extract_dimension_and_color(description):\n",
    "    dimension_pattern = r'(\\d+\\s*[xX*]\\s*\\d+\\s*(?:cm|CM))'  # Pattern for dimensions (e.g., \"140x190 cm\")\n",
    "    color_pattern = r'\\b(red|green|blue|yellow|orange|purple|black|white)\\b'  # Pattern for common colors\n",
    "\n",
    "    dimensions = re.findall(dimension_pattern, description)\n",
    "    colors = re.findall(color_pattern, description, flags=re.IGNORECASE)\n",
    "\n",
    "    # Replace 'x' with '*' in dimensions\n",
    "    dimensions = [dim.replace('x', '*') for dim in dimensions]\n",
    "\n",
    "    return dimensions, colors\n",
    "\n",
    "# Example usage:\n",
    "description = \"Foam mattress 140x190 cm in blue\"\n",
    "dimensions, colors = extract_dimension_and_color(description)\n",
    "\n",
    "if dimensions:\n",
    "    print(f\"Dimensions: {', '.join(dimensions)}\")\n",
    "\n",
    "if colors:\n",
    "    print(f\"Colors: {', '.join(colors)}\")\n"
   ]
  },
  {
   "cell_type": "code",
   "execution_count": 78,
   "id": "cf968e80",
   "metadata": {},
   "outputs": [],
   "source": [
    "## categorsising algo\n",
    "\n"
   ]
  },
  {
   "cell_type": "code",
   "execution_count": 80,
   "id": "dc451828",
   "metadata": {},
   "outputs": [],
   "source": [
    "import pandas as pd\n",
    "\n",
    "\n",
    "nature_column_index = 3\n",
    "\n",
    "valid_categories = data.iloc[:, nature_column_index].unique()\n",
    "\n",
    "mapping_dict = {\n",
    "    'multimedia':'tv son multimedia ',\n",
    "    'Furniture  ': 'table basse ',\n",
    "}\n",
    "\n",
    "data.iloc[:, nature_column_index] = data.iloc[:, nature_column_index].replace(mapping_dict)\n"
   ]
  },
  {
   "cell_type": "markdown",
   "id": "57e55a3f",
   "metadata": {},
   "source": [
    "## task 3"
   ]
  },
  {
   "cell_type": "code",
   "execution_count": 81,
   "id": "9ad11556",
   "metadata": {},
   "outputs": [],
   "source": [
    "## Matters sales and price analysis \n"
   ]
  },
  {
   "cell_type": "code",
   "execution_count": 82,
   "id": "eff10071",
   "metadata": {},
   "outputs": [],
   "source": [
    "import pandas as pd\n",
    "import matplotlib.pyplot as plt\n"
   ]
  },
  {
   "cell_type": "code",
   "execution_count": 88,
   "id": "44c64b90",
   "metadata": {},
   "outputs": [],
   "source": [
    "nature_column_index = 3\n",
    "\n"
   ]
  },
  {
   "cell_type": "code",
   "execution_count": 90,
   "id": "74ea3a20",
   "metadata": {},
   "outputs": [],
   "source": [
    "data.iloc[: , 3].fillna('', inplace=True)\n"
   ]
  },
  {
   "cell_type": "code",
   "execution_count": 92,
   "id": "b3a96544",
   "metadata": {},
   "outputs": [],
   "source": [
    "mask = data.iloc[:, nature_column_index].str.lower().str.contains('mattress').notna()"
   ]
  },
  {
   "cell_type": "code",
   "execution_count": 93,
   "id": "ef399df0",
   "metadata": {},
   "outputs": [],
   "source": [
    "mattress_data = data[mask]"
   ]
  },
  {
   "cell_type": "code",
   "execution_count": 95,
   "id": "4e74dc64",
   "metadata": {},
   "outputs": [
    {
     "data": {
      "text/html": [
       "<div>\n",
       "<style scoped>\n",
       "    .dataframe tbody tr th:only-of-type {\n",
       "        vertical-align: middle;\n",
       "    }\n",
       "\n",
       "    .dataframe tbody tr th {\n",
       "        vertical-align: top;\n",
       "    }\n",
       "\n",
       "    .dataframe thead th {\n",
       "        text-align: right;\n",
       "    }\n",
       "</style>\n",
       "<table border=\"1\" class=\"dataframe\">\n",
       "  <thead>\n",
       "    <tr style=\"text-align: right;\">\n",
       "      <th></th>\n",
       "      <th>0</th>\n",
       "      <th>1</th>\n",
       "      <th>2</th>\n",
       "      <th>3</th>\n",
       "      <th>4</th>\n",
       "      <th>5</th>\n",
       "      <th>6</th>\n",
       "      <th>7</th>\n",
       "      <th>8</th>\n",
       "      <th>9</th>\n",
       "    </tr>\n",
       "  </thead>\n",
       "  <tbody>\n",
       "    <tr>\n",
       "      <th>0</th>\n",
       "      <td>Cod_cmd</td>\n",
       "      <td>Libellé produit</td>\n",
       "      <td>Vendeur</td>\n",
       "      <td>Univers</td>\n",
       "      <td>Nature</td>\n",
       "      <td>Date de commande</td>\n",
       "      <td>NaN</td>\n",
       "      <td>Quantité</td>\n",
       "      <td>Prix transport</td>\n",
       "      <td>Délai transport annoncé</td>\n",
       "    </tr>\n",
       "    <tr>\n",
       "      <th>1</th>\n",
       "      <td>182210782</td>\n",
       "      <td>Table basse carrée detroit design industriel</td>\n",
       "      <td>Autre vendeur</td>\n",
       "      <td>Canapé Salon Séjour</td>\n",
       "      <td>Table basse</td>\n",
       "      <td>44216</td>\n",
       "      <td>244.0</td>\n",
       "      <td>4</td>\n",
       "      <td>6.67</td>\n",
       "      <td>10</td>\n",
       "    </tr>\n",
       "    <tr>\n",
       "      <th>2</th>\n",
       "      <td>182082437</td>\n",
       "      <td>Ours en peluche géant 150 cm brun</td>\n",
       "      <td>Autre vendeur</td>\n",
       "      <td>Enfant Bébé</td>\n",
       "      <td>Peluche</td>\n",
       "      <td>44213</td>\n",
       "      <td>28.0</td>\n",
       "      <td>1</td>\n",
       "      <td>9.92</td>\n",
       "      <td>10</td>\n",
       "    </tr>\n",
       "    <tr>\n",
       "      <th>3</th>\n",
       "      <td>182095765</td>\n",
       "      <td>Ours en peluche géant 100 cm blanc</td>\n",
       "      <td>Autre vendeur</td>\n",
       "      <td>Enfant Bébé</td>\n",
       "      <td>Peluche</td>\n",
       "      <td>44214</td>\n",
       "      <td>15.0</td>\n",
       "      <td>1</td>\n",
       "      <td>9.92</td>\n",
       "      <td>10</td>\n",
       "    </tr>\n",
       "    <tr>\n",
       "      <th>4</th>\n",
       "      <td>182615392</td>\n",
       "      <td>Lot de 4 chaises mia noires pour salle à manger</td>\n",
       "      <td>Autre vendeur</td>\n",
       "      <td>Canapé Salon Séjour</td>\n",
       "      <td>Chaise</td>\n",
       "      <td>44219</td>\n",
       "      <td>385.0</td>\n",
       "      <td>2</td>\n",
       "      <td>20.75</td>\n",
       "      <td>10</td>\n",
       "    </tr>\n",
       "    <tr>\n",
       "      <th>...</th>\n",
       "      <td>...</td>\n",
       "      <td>...</td>\n",
       "      <td>...</td>\n",
       "      <td>...</td>\n",
       "      <td>...</td>\n",
       "      <td>...</td>\n",
       "      <td>...</td>\n",
       "      <td>...</td>\n",
       "      <td>...</td>\n",
       "      <td>...</td>\n",
       "    </tr>\n",
       "    <tr>\n",
       "      <th>525030</th>\n",
       "      <td>186997203</td>\n",
       "      <td>Lit coffre madrid 140x200 + 1 sommier ch ne bl...</td>\n",
       "      <td>Autre vendeur</td>\n",
       "      <td>Chambre Literie</td>\n",
       "      <td>Lit adulte</td>\n",
       "      <td>44284</td>\n",
       "      <td>530.0</td>\n",
       "      <td>1</td>\n",
       "      <td>70.83</td>\n",
       "      <td>25</td>\n",
       "    </tr>\n",
       "    <tr>\n",
       "      <th>525031</th>\n",
       "      <td>187045930</td>\n",
       "      <td>Nappe antitache ronde infroissable et 100 poly...</td>\n",
       "      <td>Autre vendeur</td>\n",
       "      <td>Décoration Textile</td>\n",
       "      <td>Linge de table</td>\n",
       "      <td>44284</td>\n",
       "      <td>15.0</td>\n",
       "      <td>1</td>\n",
       "      <td>0</td>\n",
       "      <td>3</td>\n",
       "    </tr>\n",
       "    <tr>\n",
       "      <th>525032</th>\n",
       "      <td>187019687</td>\n",
       "      <td>Good morning housse de couette pour enfants da...</td>\n",
       "      <td>Autre vendeur</td>\n",
       "      <td>Décoration Textile</td>\n",
       "      <td>Housse de couette</td>\n",
       "      <td>44284</td>\n",
       "      <td>23.0</td>\n",
       "      <td>1</td>\n",
       "      <td>0</td>\n",
       "      <td>6</td>\n",
       "    </tr>\n",
       "    <tr>\n",
       "      <th>525033</th>\n",
       "      <td>186990574</td>\n",
       "      <td>Ampoule pour four e14 25w 230v ac</td>\n",
       "      <td>Autre vendeur</td>\n",
       "      <td>Décoration Textile</td>\n",
       "      <td>Ampoule</td>\n",
       "      <td>44284</td>\n",
       "      <td>15.0</td>\n",
       "      <td>2</td>\n",
       "      <td>0</td>\n",
       "      <td>7</td>\n",
       "    </tr>\n",
       "    <tr>\n",
       "      <th>525034</th>\n",
       "      <td>211053330</td>\n",
       "      <td>At4 chambre complète carnaval blanc bouleau</td>\n",
       "      <td>Autre vendeur</td>\n",
       "      <td>Chambre Literie</td>\n",
       "      <td>Ensemble chambre</td>\n",
       "      <td>44285</td>\n",
       "      <td>669.0</td>\n",
       "      <td>1</td>\n",
       "      <td>0</td>\n",
       "      <td>19</td>\n",
       "    </tr>\n",
       "  </tbody>\n",
       "</table>\n",
       "<p>507348 rows × 10 columns</p>\n",
       "</div>"
      ],
      "text/plain": [
       "                0                                                  1  \\\n",
       "0         Cod_cmd                                    Libellé produit   \n",
       "1       182210782       Table basse carrée detroit design industriel   \n",
       "2       182082437                  Ours en peluche géant 150 cm brun   \n",
       "3       182095765                 Ours en peluche géant 100 cm blanc   \n",
       "4       182615392    Lot de 4 chaises mia noires pour salle à manger   \n",
       "...           ...                                                ...   \n",
       "525030  186997203  Lit coffre madrid 140x200 + 1 sommier ch ne bl...   \n",
       "525031  187045930  Nappe antitache ronde infroissable et 100 poly...   \n",
       "525032  187019687  Good morning housse de couette pour enfants da...   \n",
       "525033  186990574                  Ampoule pour four e14 25w 230v ac   \n",
       "525034  211053330        At4 chambre complète carnaval blanc bouleau   \n",
       "\n",
       "                    2                    3                  4  \\\n",
       "0             Vendeur              Univers             Nature   \n",
       "1       Autre vendeur  Canapé Salon Séjour        Table basse   \n",
       "2       Autre vendeur          Enfant Bébé            Peluche   \n",
       "3       Autre vendeur          Enfant Bébé            Peluche   \n",
       "4       Autre vendeur  Canapé Salon Séjour             Chaise   \n",
       "...               ...                  ...                ...   \n",
       "525030  Autre vendeur      Chambre Literie         Lit adulte   \n",
       "525031  Autre vendeur   Décoration Textile     Linge de table   \n",
       "525032  Autre vendeur   Décoration Textile  Housse de couette   \n",
       "525033  Autre vendeur   Décoration Textile            Ampoule   \n",
       "525034  Autre vendeur      Chambre Literie   Ensemble chambre   \n",
       "\n",
       "                       5      6         7               8  \\\n",
       "0       Date de commande    NaN  Quantité  Prix transport   \n",
       "1                  44216  244.0         4            6.67   \n",
       "2                  44213   28.0         1            9.92   \n",
       "3                  44214   15.0         1            9.92   \n",
       "4                  44219  385.0         2           20.75   \n",
       "...                  ...    ...       ...             ...   \n",
       "525030             44284  530.0         1           70.83   \n",
       "525031             44284   15.0         1               0   \n",
       "525032             44284   23.0         1               0   \n",
       "525033             44284   15.0         2               0   \n",
       "525034             44285  669.0         1               0   \n",
       "\n",
       "                              9  \n",
       "0       Délai transport annoncé  \n",
       "1                            10  \n",
       "2                            10  \n",
       "3                            10  \n",
       "4                            10  \n",
       "...                         ...  \n",
       "525030                       25  \n",
       "525031                        3  \n",
       "525032                        6  \n",
       "525033                        7  \n",
       "525034                       19  \n",
       "\n",
       "[507348 rows x 10 columns]"
      ]
     },
     "execution_count": 95,
     "metadata": {},
     "output_type": "execute_result"
    }
   ],
   "source": [
    "data[mask]"
   ]
  },
  {
   "cell_type": "code",
   "execution_count": 110,
   "id": "6f0e1e1f",
   "metadata": {},
   "outputs": [],
   "source": [
    "sales_column_index=data.iloc[: , 6] \n"
   ]
  },
  {
   "cell_type": "code",
   "execution_count": 111,
   "id": "9e744af2",
   "metadata": {},
   "outputs": [],
   "source": [
    "mattress_data.index = pd.to_datetime(mattress_data.index)\n"
   ]
  },
  {
   "cell_type": "code",
   "execution_count": 113,
   "id": "4f39f0d3",
   "metadata": {},
   "outputs": [],
   "source": [
    "mattress_data.reset_index(inplace=True, drop=True)\n",
    "\n"
   ]
  },
  {
   "cell_type": "code",
   "execution_count": 115,
   "id": "73d171f6",
   "metadata": {},
   "outputs": [],
   "source": [
    "## open question"
   ]
  },
  {
   "cell_type": "markdown",
   "id": "aac22c03",
   "metadata": {},
   "source": [
    "## factors that can influence the valuation and eveloution of sales are \n",
    "# time series analysis \n",
    "# product category analysis \n",
    "# price analysis \n",
    "# customer segemenatation "
   ]
  },
  {
   "cell_type": "code",
   "execution_count": 118,
   "id": "f50cb60f",
   "metadata": {},
   "outputs": [
    {
     "data": {
      "image/png": "[encoded data removed]",
      "text/plain": [
       "<Figure size 864x432 with 1 Axes>"
      ]
     },
     "metadata": {
      "needs_background": "light"
     },
     "output_type": "display_data"
    }
   ],
   "source": [
    "import matplotlib.pyplot as plt\n",
    "\n",
    "# Assuming you have a DataFrame 'sales_over_time' with date and sales data\n",
    "plt.figure(figsize=(12, 6))\n",
    "plt.plot(data.index, data.iloc[: , 6], marker='o', linestyle='-')\n",
    "plt.xlabel('Date')\n",
    "plt.ylabel('Total Sales Amount')\n",
    "plt.title('Sales Over Time')\n",
    "plt.grid(True)\n",
    "plt.tight_layout()\n",
    "plt.show()"
   ]
  },
  {
   "cell_type": "markdown",
   "id": "5c41f65e",
   "metadata": {},
   "source": [
    "## price analysis "
   ]
  },
  {
   "cell_type": "code",
   "execution_count": 124,
   "id": "b69ef303",
   "metadata": {},
   "outputs": [],
   "source": [
    "import pandas as pd\n",
    "\n",
    "# Assuming you have a DataFrame 'data' and you want to convert the column at index 8 to float\n",
    "data.iloc[:, 8] = data.iloc[:, 8].str.replace(',', '', regex=True)  # Remove commas if present\n",
    "data.iloc[:, 8] = pd.to_numeric(data.iloc[:, 8], errors='coerce')  # Convert to float, 'coerce' handles non-numeric values\n",
    "\n"
   ]
  },
  {
   "cell_type": "code",
   "execution_count": 125,
   "id": "b4a57800",
   "metadata": {},
   "outputs": [],
   "source": [
    "data.iloc[:, 8] = pd.to_numeric(data.iloc[:, 8], errors='coerce')  "
   ]
  },
  {
   "cell_type": "code",
   "execution_count": 127,
   "id": "3737a609",
   "metadata": {},
   "outputs": [
    {
     "name": "stdout",
     "output_type": "stream",
     "text": [
      "0   NaN\n",
      "1   NaN\n",
      "2   NaN\n",
      "3   NaN\n",
      "4   NaN\n",
      "Name: 8, dtype: float64\n",
      "0      NaN\n",
      "1    244.0\n",
      "2     28.0\n",
      "3     15.0\n",
      "4    385.0\n",
      "Name: 6, dtype: float64\n",
      "0   NaN\n",
      "1   NaN\n",
      "2   NaN\n",
      "3   NaN\n",
      "4   NaN\n",
      "Name: 8, dtype: float64\n",
      "0      NaN\n",
      "1    244.0\n",
      "2     28.0\n",
      "3     15.0\n",
      "4    385.0\n",
      "Name: 6, dtype: float64\n"
     ]
    },
    {
     "data": {
      "image/png": "[encoded data removed]",
      "text/plain": [
       "<Figure size 720x432 with 1 Axes>"
      ]
     },
     "metadata": {
      "needs_background": "light"
     },
     "output_type": "display_data"
    }
   ],
   "source": [
    "# Check the converted data\n",
    "print(data.iloc[:, 8].head())  # Verify that 'Prix transport' is now numeric\n",
    "print(data.iloc[:, 6].head())  # Verify that 'Sales' is numeric\n",
    "\n",
    "prix_transport = data.iloc[:, 8]  # Prix Transport column after conversion\n",
    "sales = data.iloc[:, 6]  # Sales column (assuming it's at index 6)\n",
    "\n",
    "# Check if the data is not empty\n",
    "print(prix_transport.head())\n",
    "print(sales.head())\n",
    "\n",
    "# Create a scatter plot\n",
    "plt.figure(figsize=(10, 6))\n",
    "plt.scatter(prix_transport, sales, color='skyblue', alpha=0.5)\n",
    "plt.xlabel('Prix Transport')\n",
    "plt.ylabel('Total Sales Amount')\n",
    "plt.title('Scatter Plot: Prix Transport vs. Sales')\n",
    "plt.grid(True)\n",
    "plt.tight_layout()\n",
    "plt.show()\n",
    "\n",
    "\n",
    "\n",
    "\n"
   ]
  },
  {
   "cell_type": "code",
   "execution_count": 129,
   "id": "9c3cddca",
   "metadata": {},
   "outputs": [
    {
     "data": {
      "image/png": "[encoded data removed]",
      "text/plain": [
       "<Figure size 720x432 with 1 Axes>"
      ]
     },
     "metadata": {
      "needs_background": "light"
     },
     "output_type": "display_data"
    }
   ],
   "source": [
    "plt.figure(figsize=(10, 6))\n",
    "plt.hist(data.iloc[: , 6], bins=20, color='skyblue', edgecolor='black')\n",
    "plt.xlabel('Sales Amount')\n",
    "plt.ylabel('Frequency')\n",
    "plt.title('Distribution of Sales Amount')\n",
    "plt.grid(True)\n",
    "plt.tight_layout()\n",
    "plt.show()\n"
   ]
  },
  {
   "cell_type": "code",
   "execution_count": null,
   "id": "5abb3903",
   "metadata": {},
   "outputs": [],
   "source": [
    "\n"
   ]
  },
  {
   "cell_type": "code",
   "execution_count": null,
   "id": "4d813689",
   "metadata": {},
   "outputs": [],
   "source": []
  },
  {
   "cell_type": "code",
   "execution_count": null,
   "id": "2731f818",
   "metadata": {},
   "outputs": [],
   "source": []
  }
 ],
 "metadata": {
  "kernelspec": {
   "display_name": "Python 3 (ipykernel)",
   "language": "python",
   "name": "python3"
  },
  "language_info": {
   "codemirror_mode": {
    "name": "ipython",
    "version": 3
   },
   "file_extension": ".py",
   "mimetype": "text/x-python",
   "name": "python",
   "nbconvert_exporter": "python",
   "pygments_lexer": "ipython3",
   "version": "3.9.7"
  }
 },
 "nbformat": 4,
 "nbformat_minor": 5
}
